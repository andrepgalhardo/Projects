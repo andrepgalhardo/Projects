{
 "cells": [
  {
   "cell_type": "markdown",
   "id": "76b203e3",
   "metadata": {},
   "source": [
    "## Retail Data Analysis\n",
    "\n",
    "## André de Paula Galhardo\n",
    "\n",
    "### andregalhardo@tuta.io"
   ]
  },
  {
   "cell_type": "code",
   "execution_count": null,
   "id": "1080f5d8",
   "metadata": {},
   "outputs": [],
   "source": [
    "import pandas as pd\n",
    "import numpy as np\n",
    "import matplotlib.pyplot as plt \n",
    "import seaborn as sns\n",
    "import plotly.express as px\n",
    "import warnings\n",
    "warnings.filterwarnings(\"ignore\")"
   ]
  },
  {
   "cell_type": "code",
   "execution_count": null,
   "id": "83534e52",
   "metadata": {},
   "outputs": [],
   "source": [
    "df_features = pd.read_csv('Features data set.csv')\n"
   ]
  },
  {
   "cell_type": "code",
   "execution_count": null,
   "id": "dda8f53f",
   "metadata": {},
   "outputs": [],
   "source": [
    "df_sales = pd.read_csv('sales data-set.csv')"
   ]
  },
  {
   "cell_type": "code",
   "execution_count": null,
   "id": "d179d04a",
   "metadata": {},
   "outputs": [],
   "source": [
    "df_stores = pd.read_csv('stores data-set.csv')"
   ]
  },
  {
   "cell_type": "code",
   "execution_count": null,
   "id": "903781df",
   "metadata": {},
   "outputs": [],
   "source": [
    "df_features.head()"
   ]
  },
  {
   "cell_type": "code",
   "execution_count": null,
   "id": "5ee209fc",
   "metadata": {},
   "outputs": [],
   "source": [
    "df_sales = df_sales.merge(df_features, on=['Date', 'Store', 'IsHoliday'])"
   ]
  },
  {
   "cell_type": "code",
   "execution_count": null,
   "id": "94a2d056",
   "metadata": {},
   "outputs": [],
   "source": [
    "df_stores.head()"
   ]
  },
  {
   "cell_type": "code",
   "execution_count": null,
   "id": "181af478",
   "metadata": {},
   "outputs": [],
   "source": [
    "df_sales = df_sales.merge(df_stores, on='Store')"
   ]
  },
  {
   "cell_type": "code",
   "execution_count": null,
   "id": "3bd88633",
   "metadata": {
    "scrolled": true
   },
   "outputs": [],
   "source": [
    "df_sales.head()"
   ]
  },
  {
   "cell_type": "markdown",
   "id": "1572a255",
   "metadata": {},
   "source": [
    "## 1- Data Exploring"
   ]
  },
  {
   "cell_type": "code",
   "execution_count": null,
   "id": "a114caae",
   "metadata": {},
   "outputs": [],
   "source": [
    "df = df_sales"
   ]
  },
  {
   "cell_type": "code",
   "execution_count": null,
   "id": "c3fe8089",
   "metadata": {},
   "outputs": [],
   "source": [
    "df.size"
   ]
  },
  {
   "cell_type": "code",
   "execution_count": null,
   "id": "a431fa0c",
   "metadata": {},
   "outputs": [],
   "source": [
    "df.shape"
   ]
  },
  {
   "cell_type": "code",
   "execution_count": null,
   "id": "29403d0f",
   "metadata": {},
   "outputs": [],
   "source": [
    "df.info()"
   ]
  },
  {
   "cell_type": "code",
   "execution_count": null,
   "id": "07656c96",
   "metadata": {},
   "outputs": [],
   "source": [
    "df.isnull().sum()"
   ]
  },
  {
   "cell_type": "markdown",
   "id": "ce97d554",
   "metadata": {},
   "source": [
    "## 2 - Data Cleaning"
   ]
  },
  {
   "cell_type": "code",
   "execution_count": null,
   "id": "73c9b80a",
   "metadata": {
    "scrolled": true
   },
   "outputs": [],
   "source": [
    "df.fillna(0)"
   ]
  },
  {
   "cell_type": "code",
   "execution_count": null,
   "id": "41b83321",
   "metadata": {},
   "outputs": [],
   "source": [
    "df.duplicated().sum()"
   ]
  },
  {
   "cell_type": "markdown",
   "id": "8a518aea",
   "metadata": {},
   "source": [
    "## 3 - Data Transforming"
   ]
  },
  {
   "cell_type": "code",
   "execution_count": null,
   "id": "0c28b487",
   "metadata": {},
   "outputs": [],
   "source": [
    "df.info()"
   ]
  },
  {
   "cell_type": "code",
   "execution_count": null,
   "id": "14f9b708",
   "metadata": {},
   "outputs": [],
   "source": [
    "df['Date'] = pd.to_datetime(df['Date'], format='%d/%m/%Y')"
   ]
  },
  {
   "cell_type": "code",
   "execution_count": null,
   "id": "b827cdd6",
   "metadata": {},
   "outputs": [],
   "source": [
    "df.info()"
   ]
  },
  {
   "cell_type": "markdown",
   "id": "4f238c86",
   "metadata": {},
   "source": [
    "## 4 - Data Analysis"
   ]
  },
  {
   "cell_type": "code",
   "execution_count": null,
   "id": "d7d08845",
   "metadata": {
    "scrolled": true
   },
   "outputs": [],
   "source": [
    "df.corr(numeric_only=True)"
   ]
  },
  {
   "cell_type": "code",
   "execution_count": null,
   "id": "e5de2314",
   "metadata": {},
   "outputs": [],
   "source": [
    "plt.figure(figsize=(12,10))\n",
    "sns.heatmap(df.corr(numeric_only=True),annot=True)"
   ]
  },
  {
   "cell_type": "code",
   "execution_count": null,
   "id": "1a967f9e",
   "metadata": {
    "scrolled": false
   },
   "outputs": [],
   "source": [
    "df.describe()"
   ]
  },
  {
   "cell_type": "code",
   "execution_count": null,
   "id": "1b4c52b2",
   "metadata": {},
   "outputs": [],
   "source": [
    "plt.figure(figsize=(12,6))\n",
    "sns.set_style('whitegrid')\n",
    "sns.barplot(x=df['Store'], y=df['Weekly_Sales'], ci=False)\n",
    "#plt.xticks(rotation=45)\n",
    "plt.title(\"Weekly Sales per Store\")\n",
    "plt.xlabel('Store')\n",
    "plt.ylabel('Weekly Sales')"
   ]
  },
  {
   "cell_type": "markdown",
   "id": "da40e07c",
   "metadata": {},
   "source": [
    "### Top 10 Stores with more Sales"
   ]
  },
  {
   "cell_type": "code",
   "execution_count": null,
   "id": "c1c30951",
   "metadata": {},
   "outputs": [],
   "source": [
    "top10 = df.groupby('Store')['Weekly_Sales'].mean().nlargest(10)\n",
    "top10 = pd.DataFrame(top10)\n",
    "top10"
   ]
  },
  {
   "cell_type": "markdown",
   "id": "e5576c36",
   "metadata": {},
   "source": [
    "### Fuel Price and Weekly Sales"
   ]
  },
  {
   "cell_type": "code",
   "execution_count": null,
   "id": "972396c7",
   "metadata": {},
   "outputs": [],
   "source": [
    "df.Fuel_Price.describe()"
   ]
  },
  {
   "cell_type": "code",
   "execution_count": null,
   "id": "966e81ff",
   "metadata": {},
   "outputs": [],
   "source": [
    "plt.figure(figsize=(10,6))\n",
    "sns.regplot(x='Fuel_Price', y='Weekly_Sales', data=df)\n",
    "plt.title('Fuel Price and Weekly Sales')\n",
    "plt.xlabel('Fuel Price')\n",
    "plt.ylabel('Weekly Sales')"
   ]
  },
  {
   "cell_type": "markdown",
   "id": "474145f4",
   "metadata": {},
   "source": [
    "### Weekly Sales and Temperature"
   ]
  },
  {
   "cell_type": "code",
   "execution_count": null,
   "id": "056ec8e0",
   "metadata": {},
   "outputs": [],
   "source": [
    "df.Temperature.describe()"
   ]
  },
  {
   "cell_type": "code",
   "execution_count": null,
   "id": "5a13c9a1",
   "metadata": {},
   "outputs": [],
   "source": [
    "sns.regplot(x=df['Temperature'], y=df['Weekly_Sales'])"
   ]
  },
  {
   "cell_type": "markdown",
   "id": "a1c8552d",
   "metadata": {},
   "source": [
    "### Weekly Sales and Unemployment"
   ]
  },
  {
   "cell_type": "code",
   "execution_count": null,
   "id": "c8510398",
   "metadata": {},
   "outputs": [],
   "source": [
    "df.Unemployment.describe()"
   ]
  },
  {
   "cell_type": "code",
   "execution_count": null,
   "id": "5f68d1ae",
   "metadata": {},
   "outputs": [],
   "source": [
    "sns.regplot(x=df['Unemployment'], y=df['Weekly_Sales'])"
   ]
  },
  {
   "cell_type": "markdown",
   "id": "b24d45fe",
   "metadata": {},
   "source": [
    "### Weekly Sales per Date"
   ]
  },
  {
   "cell_type": "code",
   "execution_count": null,
   "id": "3f6a737c",
   "metadata": {
    "scrolled": true
   },
   "outputs": [],
   "source": [
    "plt.figure(figsize=(12,6))\n",
    "sns.lineplot(x=df['Date'], y=df['Weekly_Sales'])\n",
    "plt.title('Weekly Sales per Date')"
   ]
  },
  {
   "cell_type": "code",
   "execution_count": null,
   "id": "56c7724d",
   "metadata": {},
   "outputs": [],
   "source": [
    "top10_sales = df.groupby('Date')['Weekly_Sales'].mean().nlargest(10)\n",
    "top10_sales = pd.DataFrame(top10_sales)\n",
    "top10_sales"
   ]
  },
  {
   "cell_type": "code",
   "execution_count": null,
   "id": "186ca2b5",
   "metadata": {},
   "outputs": [],
   "source": [
    "df['Month'] = df['Date'].dt.month"
   ]
  },
  {
   "cell_type": "code",
   "execution_count": null,
   "id": "8418b02c",
   "metadata": {},
   "outputs": [],
   "source": [
    "sns.barplot(x='Month', y='Weekly_Sales', data=df)\n"
   ]
  },
  {
   "cell_type": "markdown",
   "id": "331de1e1",
   "metadata": {},
   "source": [
    "### Comparative Holidays and non holidays"
   ]
  },
  {
   "cell_type": "code",
   "execution_count": null,
   "id": "07b935f8",
   "metadata": {},
   "outputs": [],
   "source": [
    "df_holydays = df[df['IsHoliday'] == 1]"
   ]
  },
  {
   "cell_type": "code",
   "execution_count": null,
   "id": "dccf1b4a",
   "metadata": {},
   "outputs": [],
   "source": [
    "df_holydays['Weekly_Sales'].mean()"
   ]
  },
  {
   "cell_type": "code",
   "execution_count": null,
   "id": "d4aef217",
   "metadata": {},
   "outputs": [],
   "source": [
    "df_holydays['Weekly_Sales'].describe()"
   ]
  },
  {
   "cell_type": "code",
   "execution_count": null,
   "id": "240f6f2a",
   "metadata": {},
   "outputs": [],
   "source": [
    "df_non_holidays = df[df['IsHoliday'] == 0]"
   ]
  },
  {
   "cell_type": "code",
   "execution_count": null,
   "id": "393c041b",
   "metadata": {},
   "outputs": [],
   "source": [
    "df_non_holidays['Weekly_Sales'].mean()"
   ]
  },
  {
   "cell_type": "code",
   "execution_count": null,
   "id": "a0730e48",
   "metadata": {},
   "outputs": [],
   "source": [
    "df_non_holidays['Weekly_Sales'].describe()"
   ]
  },
  {
   "cell_type": "code",
   "execution_count": null,
   "id": "def19de5",
   "metadata": {
    "scrolled": true
   },
   "outputs": [],
   "source": [
    "plt.figure(figsize=(10,6))\n",
    "sns.set_style('whitegrid')\n",
    "sns.barplot(x=df_holydays['Date'], y=df_holydays['Weekly_Sales'], ci=False)\n",
    "plt.xticks(rotation=90)\n",
    "plt.title(\"Weekly Sales per Holidays\")\n",
    "plt.xlabel('Holidays')\n",
    "plt.ylabel('Weekly Sales')"
   ]
  },
  {
   "cell_type": "code",
   "execution_count": null,
   "id": "52a4a572",
   "metadata": {},
   "outputs": [],
   "source": [
    "plt.figure(figsize=(10,6))\n",
    "sns.set_style('whitegrid')\n",
    "sns.lineplot(x=df_non_holidays['Date'], y=df_non_holidays['Weekly_Sales'])\n",
    "plt.xticks(rotation=90)\n",
    "plt.title(\"Weekly Sales non Holidays\")\n",
    "plt.xlabel('Holidays')\n",
    "plt.ylabel('Weekly Sales')"
   ]
  },
  {
   "cell_type": "markdown",
   "id": "26f8b775",
   "metadata": {},
   "source": [
    "## Mean of Stores and Types"
   ]
  },
  {
   "cell_type": "code",
   "execution_count": null,
   "id": "5d298106",
   "metadata": {
    "scrolled": false
   },
   "outputs": [],
   "source": [
    "df_stores_total = df.groupby('Weekly_Sales')['Store'].mean()\n",
    "df_stores_total = df_stores_total.value_counts()\n",
    "df_stores_total = pd.DataFrame(df_stores_total)\n"
   ]
  },
  {
   "cell_type": "code",
   "execution_count": null,
   "id": "0d335928",
   "metadata": {
    "scrolled": false
   },
   "outputs": [],
   "source": [
    "df_stores_total = df_stores_total.rename(columns={'count': 'mean'})\n"
   ]
  },
  {
   "cell_type": "code",
   "execution_count": null,
   "id": "24e69758",
   "metadata": {},
   "outputs": [],
   "source": [
    "df_stores_total = df_stores_total.merge(df, on='Store')\n",
    "df_stores_total = df_stores_total[['Store', 'mean', 'Type']]"
   ]
  },
  {
   "cell_type": "code",
   "execution_count": null,
   "id": "25480889",
   "metadata": {},
   "outputs": [],
   "source": [
    "ax = sns.scatterplot(x='mean', y='Store', hue='Type', data=df_stores_total)\n",
    "ax.set_xlim(1000, 10000)\n",
    "plt.title('Mean of Weekly Sales per Type of Store')\n",
    "plt.xlabel('Mean')"
   ]
  },
  {
   "cell_type": "code",
   "execution_count": null,
   "id": "152daf97",
   "metadata": {
    "scrolled": false
   },
   "outputs": [],
   "source": [
    "ax = sns.scatterplot(x='Weekly_Sales', y='Date', hue='Type', data=df)\n",
    "ax.set_xlim(0, 250000)\n",
    "plt.title('Weekly Sales per Type of Store')\n",
    "plt.xlabel('Weekly Sales')\n"
   ]
  },
  {
   "cell_type": "code",
   "execution_count": null,
   "id": "abb74b79",
   "metadata": {
    "scrolled": true
   },
   "outputs": [],
   "source": [
    "sns.lineplot(x='Size', y='Weekly_Sales', data=df)\n",
    "plt.title('Weekly Sales per Size of Store')\n",
    "plt.xlabel('Size of Store')"
   ]
  }
 ],
 "metadata": {
  "kernelspec": {
   "display_name": "Python 3 (ipykernel)",
   "language": "python",
   "name": "python3"
  },
  "language_info": {
   "codemirror_mode": {
    "name": "ipython",
    "version": 3
   },
   "file_extension": ".py",
   "mimetype": "text/x-python",
   "name": "python",
   "nbconvert_exporter": "python",
   "pygments_lexer": "ipython3",
   "version": "3.11.5"
  }
 },
 "nbformat": 4,
 "nbformat_minor": 5
}
