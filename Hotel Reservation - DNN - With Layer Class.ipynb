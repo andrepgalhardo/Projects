{
 "cells": [
  {
   "cell_type": "markdown",
   "id": "17ec86b3",
   "metadata": {},
   "source": [
    "### Imports and Load Dataset"
   ]
  },
  {
   "cell_type": "code",
   "execution_count": 1,
   "id": "f500e307",
   "metadata": {},
   "outputs": [
    {
     "name": "stderr",
     "output_type": "stream",
     "text": [
      "2024-01-05 20:16:27.857630: E external/local_xla/xla/stream_executor/cuda/cuda_dnn.cc:9261] Unable to register cuDNN factory: Attempting to register factory for plugin cuDNN when one has already been registered\n",
      "2024-01-05 20:16:27.857667: E external/local_xla/xla/stream_executor/cuda/cuda_fft.cc:607] Unable to register cuFFT factory: Attempting to register factory for plugin cuFFT when one has already been registered\n",
      "2024-01-05 20:16:27.858774: E external/local_xla/xla/stream_executor/cuda/cuda_blas.cc:1515] Unable to register cuBLAS factory: Attempting to register factory for plugin cuBLAS when one has already been registered\n",
      "2024-01-05 20:16:27.867164: I tensorflow/core/platform/cpu_feature_guard.cc:182] This TensorFlow binary is optimized to use available CPU instructions in performance-critical operations.\n",
      "To enable the following instructions: AVX2 FMA, in other operations, rebuild TensorFlow with the appropriate compiler flags.\n",
      "2024-01-05 20:16:28.649240: W tensorflow/compiler/tf2tensorrt/utils/py_utils.cc:38] TF-TRT Warning: Could not find TensorRT\n"
     ]
    }
   ],
   "source": [
    "import numpy as np\n",
    "import pandas as pd\n",
    "\n",
    "import matplotlib as plt\n",
    "import seaborn as sns\n",
    "\n",
    "import tensorflow as tf\n",
    "from tensorflow import keras"
   ]
  },
  {
   "cell_type": "code",
   "execution_count": 2,
   "id": "e36e592c",
   "metadata": {},
   "outputs": [],
   "source": [
    "df = pd.read_csv('hotel.csv')"
   ]
  },
  {
   "cell_type": "code",
   "execution_count": 3,
   "id": "abdb3592",
   "metadata": {},
   "outputs": [
    {
     "data": {
      "text/html": [
       "<div>\n",
       "<style scoped>\n",
       "    .dataframe tbody tr th:only-of-type {\n",
       "        vertical-align: middle;\n",
       "    }\n",
       "\n",
       "    .dataframe tbody tr th {\n",
       "        vertical-align: top;\n",
       "    }\n",
       "\n",
       "    .dataframe thead th {\n",
       "        text-align: right;\n",
       "    }\n",
       "</style>\n",
       "<table border=\"1\" class=\"dataframe\">\n",
       "  <thead>\n",
       "    <tr style=\"text-align: right;\">\n",
       "      <th></th>\n",
       "      <th>hotel</th>\n",
       "      <th>is_canceled</th>\n",
       "      <th>lead_time</th>\n",
       "      <th>arrival_date_year</th>\n",
       "      <th>arrival_date_month</th>\n",
       "      <th>arrival_date_week_number</th>\n",
       "      <th>arrival_date_day_of_month</th>\n",
       "      <th>stays_in_weekend_nights</th>\n",
       "      <th>stays_in_week_nights</th>\n",
       "      <th>adults</th>\n",
       "      <th>...</th>\n",
       "      <th>deposit_type</th>\n",
       "      <th>agent</th>\n",
       "      <th>company</th>\n",
       "      <th>days_in_waiting_list</th>\n",
       "      <th>customer_type</th>\n",
       "      <th>adr</th>\n",
       "      <th>required_car_parking_spaces</th>\n",
       "      <th>total_of_special_requests</th>\n",
       "      <th>reservation_status</th>\n",
       "      <th>reservation_status_date</th>\n",
       "    </tr>\n",
       "  </thead>\n",
       "  <tbody>\n",
       "    <tr>\n",
       "      <th>0</th>\n",
       "      <td>Resort Hotel</td>\n",
       "      <td>0</td>\n",
       "      <td>342</td>\n",
       "      <td>2015</td>\n",
       "      <td>July</td>\n",
       "      <td>27</td>\n",
       "      <td>1</td>\n",
       "      <td>0</td>\n",
       "      <td>0</td>\n",
       "      <td>2</td>\n",
       "      <td>...</td>\n",
       "      <td>No Deposit</td>\n",
       "      <td>NaN</td>\n",
       "      <td>NaN</td>\n",
       "      <td>0</td>\n",
       "      <td>Transient</td>\n",
       "      <td>0.0</td>\n",
       "      <td>0</td>\n",
       "      <td>0</td>\n",
       "      <td>Check-Out</td>\n",
       "      <td>2015-07-01</td>\n",
       "    </tr>\n",
       "    <tr>\n",
       "      <th>1</th>\n",
       "      <td>Resort Hotel</td>\n",
       "      <td>0</td>\n",
       "      <td>737</td>\n",
       "      <td>2015</td>\n",
       "      <td>July</td>\n",
       "      <td>27</td>\n",
       "      <td>1</td>\n",
       "      <td>0</td>\n",
       "      <td>0</td>\n",
       "      <td>2</td>\n",
       "      <td>...</td>\n",
       "      <td>No Deposit</td>\n",
       "      <td>NaN</td>\n",
       "      <td>NaN</td>\n",
       "      <td>0</td>\n",
       "      <td>Transient</td>\n",
       "      <td>0.0</td>\n",
       "      <td>0</td>\n",
       "      <td>0</td>\n",
       "      <td>Check-Out</td>\n",
       "      <td>2015-07-01</td>\n",
       "    </tr>\n",
       "    <tr>\n",
       "      <th>2</th>\n",
       "      <td>Resort Hotel</td>\n",
       "      <td>0</td>\n",
       "      <td>7</td>\n",
       "      <td>2015</td>\n",
       "      <td>July</td>\n",
       "      <td>27</td>\n",
       "      <td>1</td>\n",
       "      <td>0</td>\n",
       "      <td>1</td>\n",
       "      <td>1</td>\n",
       "      <td>...</td>\n",
       "      <td>No Deposit</td>\n",
       "      <td>NaN</td>\n",
       "      <td>NaN</td>\n",
       "      <td>0</td>\n",
       "      <td>Transient</td>\n",
       "      <td>75.0</td>\n",
       "      <td>0</td>\n",
       "      <td>0</td>\n",
       "      <td>Check-Out</td>\n",
       "      <td>2015-07-02</td>\n",
       "    </tr>\n",
       "    <tr>\n",
       "      <th>3</th>\n",
       "      <td>Resort Hotel</td>\n",
       "      <td>0</td>\n",
       "      <td>13</td>\n",
       "      <td>2015</td>\n",
       "      <td>July</td>\n",
       "      <td>27</td>\n",
       "      <td>1</td>\n",
       "      <td>0</td>\n",
       "      <td>1</td>\n",
       "      <td>1</td>\n",
       "      <td>...</td>\n",
       "      <td>No Deposit</td>\n",
       "      <td>304.0</td>\n",
       "      <td>NaN</td>\n",
       "      <td>0</td>\n",
       "      <td>Transient</td>\n",
       "      <td>75.0</td>\n",
       "      <td>0</td>\n",
       "      <td>0</td>\n",
       "      <td>Check-Out</td>\n",
       "      <td>2015-07-02</td>\n",
       "    </tr>\n",
       "    <tr>\n",
       "      <th>4</th>\n",
       "      <td>Resort Hotel</td>\n",
       "      <td>0</td>\n",
       "      <td>14</td>\n",
       "      <td>2015</td>\n",
       "      <td>July</td>\n",
       "      <td>27</td>\n",
       "      <td>1</td>\n",
       "      <td>0</td>\n",
       "      <td>2</td>\n",
       "      <td>2</td>\n",
       "      <td>...</td>\n",
       "      <td>No Deposit</td>\n",
       "      <td>240.0</td>\n",
       "      <td>NaN</td>\n",
       "      <td>0</td>\n",
       "      <td>Transient</td>\n",
       "      <td>98.0</td>\n",
       "      <td>0</td>\n",
       "      <td>1</td>\n",
       "      <td>Check-Out</td>\n",
       "      <td>2015-07-03</td>\n",
       "    </tr>\n",
       "  </tbody>\n",
       "</table>\n",
       "<p>5 rows × 32 columns</p>\n",
       "</div>"
      ],
      "text/plain": [
       "          hotel  is_canceled  lead_time  arrival_date_year arrival_date_month  \\\n",
       "0  Resort Hotel            0        342               2015               July   \n",
       "1  Resort Hotel            0        737               2015               July   \n",
       "2  Resort Hotel            0          7               2015               July   \n",
       "3  Resort Hotel            0         13               2015               July   \n",
       "4  Resort Hotel            0         14               2015               July   \n",
       "\n",
       "   arrival_date_week_number  arrival_date_day_of_month  \\\n",
       "0                        27                          1   \n",
       "1                        27                          1   \n",
       "2                        27                          1   \n",
       "3                        27                          1   \n",
       "4                        27                          1   \n",
       "\n",
       "   stays_in_weekend_nights  stays_in_week_nights  adults  ...  deposit_type  \\\n",
       "0                        0                     0       2  ...    No Deposit   \n",
       "1                        0                     0       2  ...    No Deposit   \n",
       "2                        0                     1       1  ...    No Deposit   \n",
       "3                        0                     1       1  ...    No Deposit   \n",
       "4                        0                     2       2  ...    No Deposit   \n",
       "\n",
       "   agent company days_in_waiting_list customer_type   adr  \\\n",
       "0    NaN     NaN                    0     Transient   0.0   \n",
       "1    NaN     NaN                    0     Transient   0.0   \n",
       "2    NaN     NaN                    0     Transient  75.0   \n",
       "3  304.0     NaN                    0     Transient  75.0   \n",
       "4  240.0     NaN                    0     Transient  98.0   \n",
       "\n",
       "   required_car_parking_spaces  total_of_special_requests  reservation_status  \\\n",
       "0                            0                          0           Check-Out   \n",
       "1                            0                          0           Check-Out   \n",
       "2                            0                          0           Check-Out   \n",
       "3                            0                          0           Check-Out   \n",
       "4                            0                          1           Check-Out   \n",
       "\n",
       "  reservation_status_date  \n",
       "0              2015-07-01  \n",
       "1              2015-07-01  \n",
       "2              2015-07-02  \n",
       "3              2015-07-02  \n",
       "4              2015-07-03  \n",
       "\n",
       "[5 rows x 32 columns]"
      ]
     },
     "execution_count": 3,
     "metadata": {},
     "output_type": "execute_result"
    }
   ],
   "source": [
    "df.head()"
   ]
  },
  {
   "cell_type": "code",
   "execution_count": 4,
   "id": "811d3553",
   "metadata": {},
   "outputs": [
    {
     "data": {
      "text/plain": [
       "3820480"
      ]
     },
     "execution_count": 4,
     "metadata": {},
     "output_type": "execute_result"
    }
   ],
   "source": [
    "df.size"
   ]
  },
  {
   "cell_type": "code",
   "execution_count": 5,
   "id": "fe67ed4d",
   "metadata": {},
   "outputs": [
    {
     "data": {
      "text/plain": [
       "(119390, 32)"
      ]
     },
     "execution_count": 5,
     "metadata": {},
     "output_type": "execute_result"
    }
   ],
   "source": [
    "df.shape"
   ]
  },
  {
   "cell_type": "markdown",
   "id": "4de73c86",
   "metadata": {},
   "source": [
    "### EDA"
   ]
  },
  {
   "cell_type": "code",
   "execution_count": 6,
   "id": "29ea4ce5",
   "metadata": {
    "scrolled": true
   },
   "outputs": [
    {
     "data": {
      "text/plain": [
       "hotel                                  0\n",
       "is_canceled                            0\n",
       "lead_time                              0\n",
       "arrival_date_year                      0\n",
       "arrival_date_month                     0\n",
       "arrival_date_week_number               0\n",
       "arrival_date_day_of_month              0\n",
       "stays_in_weekend_nights                0\n",
       "stays_in_week_nights                   0\n",
       "adults                                 0\n",
       "children                               4\n",
       "babies                                 0\n",
       "meal                                   0\n",
       "country                              488\n",
       "market_segment                         0\n",
       "distribution_channel                   0\n",
       "is_repeated_guest                      0\n",
       "previous_cancellations                 0\n",
       "previous_bookings_not_canceled         0\n",
       "reserved_room_type                     0\n",
       "assigned_room_type                     0\n",
       "booking_changes                        0\n",
       "deposit_type                           0\n",
       "agent                              16340\n",
       "company                           112593\n",
       "days_in_waiting_list                   0\n",
       "customer_type                          0\n",
       "adr                                    0\n",
       "required_car_parking_spaces            0\n",
       "total_of_special_requests              0\n",
       "reservation_status                     0\n",
       "reservation_status_date                0\n",
       "dtype: int64"
      ]
     },
     "execution_count": 6,
     "metadata": {},
     "output_type": "execute_result"
    }
   ],
   "source": [
    "df.isnull().sum()"
   ]
  },
  {
   "cell_type": "code",
   "execution_count": 7,
   "id": "b6cadd47",
   "metadata": {
    "scrolled": true
   },
   "outputs": [
    {
     "data": {
      "text/plain": [
       "hotel                              0.000000\n",
       "is_canceled                        0.000000\n",
       "lead_time                          0.000000\n",
       "arrival_date_year                  0.000000\n",
       "arrival_date_month                 0.000000\n",
       "arrival_date_week_number           0.000000\n",
       "arrival_date_day_of_month          0.000000\n",
       "stays_in_weekend_nights            0.000000\n",
       "stays_in_week_nights               0.000000\n",
       "adults                             0.000000\n",
       "children                           0.003350\n",
       "babies                             0.000000\n",
       "meal                               0.000000\n",
       "country                            0.408744\n",
       "market_segment                     0.000000\n",
       "distribution_channel               0.000000\n",
       "is_repeated_guest                  0.000000\n",
       "previous_cancellations             0.000000\n",
       "previous_bookings_not_canceled     0.000000\n",
       "reserved_room_type                 0.000000\n",
       "assigned_room_type                 0.000000\n",
       "booking_changes                    0.000000\n",
       "deposit_type                       0.000000\n",
       "agent                             13.686238\n",
       "company                           94.306893\n",
       "days_in_waiting_list               0.000000\n",
       "customer_type                      0.000000\n",
       "adr                                0.000000\n",
       "required_car_parking_spaces        0.000000\n",
       "total_of_special_requests          0.000000\n",
       "reservation_status                 0.000000\n",
       "reservation_status_date            0.000000\n",
       "dtype: float64"
      ]
     },
     "execution_count": 7,
     "metadata": {},
     "output_type": "execute_result"
    }
   ],
   "source": [
    "df.isnull().mean()*100"
   ]
  },
  {
   "cell_type": "code",
   "execution_count": 8,
   "id": "e029f405",
   "metadata": {},
   "outputs": [],
   "source": [
    "df.drop(columns=['company'], inplace=True)"
   ]
  },
  {
   "cell_type": "code",
   "execution_count": 9,
   "id": "b1dc2590",
   "metadata": {},
   "outputs": [],
   "source": [
    "df.dropna(axis=0, inplace=True)"
   ]
  },
  {
   "cell_type": "code",
   "execution_count": 10,
   "id": "5a1b8859",
   "metadata": {},
   "outputs": [
    {
     "data": {
      "text/plain": [
       "(102894, 31)"
      ]
     },
     "execution_count": 10,
     "metadata": {},
     "output_type": "execute_result"
    }
   ],
   "source": [
    "df.shape"
   ]
  },
  {
   "cell_type": "code",
   "execution_count": 11,
   "id": "af97db95",
   "metadata": {},
   "outputs": [
    {
     "name": "stdout",
     "output_type": "stream",
     "text": [
      "<class 'pandas.core.frame.DataFrame'>\n",
      "Index: 102894 entries, 3 to 119389\n",
      "Data columns (total 31 columns):\n",
      " #   Column                          Non-Null Count   Dtype  \n",
      "---  ------                          --------------   -----  \n",
      " 0   hotel                           102894 non-null  object \n",
      " 1   is_canceled                     102894 non-null  int64  \n",
      " 2   lead_time                       102894 non-null  int64  \n",
      " 3   arrival_date_year               102894 non-null  int64  \n",
      " 4   arrival_date_month              102894 non-null  object \n",
      " 5   arrival_date_week_number        102894 non-null  int64  \n",
      " 6   arrival_date_day_of_month       102894 non-null  int64  \n",
      " 7   stays_in_weekend_nights         102894 non-null  int64  \n",
      " 8   stays_in_week_nights            102894 non-null  int64  \n",
      " 9   adults                          102894 non-null  int64  \n",
      " 10  children                        102894 non-null  float64\n",
      " 11  babies                          102894 non-null  int64  \n",
      " 12  meal                            102894 non-null  object \n",
      " 13  country                         102894 non-null  object \n",
      " 14  market_segment                  102894 non-null  object \n",
      " 15  distribution_channel            102894 non-null  object \n",
      " 16  is_repeated_guest               102894 non-null  int64  \n",
      " 17  previous_cancellations          102894 non-null  int64  \n",
      " 18  previous_bookings_not_canceled  102894 non-null  int64  \n",
      " 19  reserved_room_type              102894 non-null  object \n",
      " 20  assigned_room_type              102894 non-null  object \n",
      " 21  booking_changes                 102894 non-null  int64  \n",
      " 22  deposit_type                    102894 non-null  object \n",
      " 23  agent                           102894 non-null  float64\n",
      " 24  days_in_waiting_list            102894 non-null  int64  \n",
      " 25  customer_type                   102894 non-null  object \n",
      " 26  adr                             102894 non-null  float64\n",
      " 27  required_car_parking_spaces     102894 non-null  int64  \n",
      " 28  total_of_special_requests       102894 non-null  int64  \n",
      " 29  reservation_status              102894 non-null  object \n",
      " 30  reservation_status_date         102894 non-null  object \n",
      "dtypes: float64(3), int64(16), object(12)\n",
      "memory usage: 25.1+ MB\n"
     ]
    }
   ],
   "source": [
    "df.info()"
   ]
  },
  {
   "cell_type": "code",
   "execution_count": 12,
   "id": "dfa452d6",
   "metadata": {},
   "outputs": [
    {
     "data": {
      "text/plain": [
       "hotel\n",
       "City Hotel      71181\n",
       "Resort Hotel    31713\n",
       "Name: count, dtype: int64"
      ]
     },
     "execution_count": 12,
     "metadata": {},
     "output_type": "execute_result"
    }
   ],
   "source": [
    "df.hotel.value_counts()"
   ]
  },
  {
   "cell_type": "code",
   "execution_count": 13,
   "id": "ac69e08c",
   "metadata": {},
   "outputs": [],
   "source": [
    "df['hotel'] = df['hotel'].apply(lambda x: 1 if x == 'Resort Hotel' else 0)"
   ]
  },
  {
   "cell_type": "code",
   "execution_count": 14,
   "id": "c56f4c2a",
   "metadata": {},
   "outputs": [],
   "source": [
    "df['arrival_date_month'].replace({'August':8, 'July': 7, 'May': 5, 'October': 10, 'April': 4, 'June': 6,\n",
    "                                 'September': 9, 'March': 3, 'February': 2, 'November': 11, \n",
    "                                 'December': 12, 'January': 1}, inplace=True)"
   ]
  },
  {
   "cell_type": "code",
   "execution_count": 15,
   "id": "703946e1",
   "metadata": {},
   "outputs": [
    {
     "data": {
      "text/plain": [
       "arrival_date_month\n",
       "8     12672\n",
       "7     11599\n",
       "5     10087\n",
       "6      9803\n",
       "4      9746\n",
       "10     9437\n",
       "9      9411\n",
       "3      8132\n",
       "2      6445\n",
       "12     5620\n",
       "11     5396\n",
       "1      4546\n",
       "Name: count, dtype: int64"
      ]
     },
     "execution_count": 15,
     "metadata": {},
     "output_type": "execute_result"
    }
   ],
   "source": [
    "df['arrival_date_month'].value_counts()"
   ]
  },
  {
   "cell_type": "code",
   "execution_count": 16,
   "id": "909f377b",
   "metadata": {},
   "outputs": [
    {
     "data": {
      "text/plain": [
       "meal\n",
       "BB           77638\n",
       "HB           13421\n",
       "SC           10334\n",
       "Undefined      830\n",
       "FB             671\n",
       "Name: count, dtype: int64"
      ]
     },
     "execution_count": 16,
     "metadata": {},
     "output_type": "execute_result"
    }
   ],
   "source": [
    "df.meal.value_counts()"
   ]
  },
  {
   "cell_type": "code",
   "execution_count": 17,
   "id": "c5f077d9",
   "metadata": {},
   "outputs": [
    {
     "data": {
      "text/plain": [
       "country\n",
       "PRT    37591\n",
       "GBR    10889\n",
       "FRA     9810\n",
       "ESP     7848\n",
       "DEU     6998\n",
       "       ...  \n",
       "BHS        1\n",
       "UMI        1\n",
       "NPL        1\n",
       "MWI        1\n",
       "BFA        1\n",
       "Name: count, Length: 174, dtype: int64"
      ]
     },
     "execution_count": 17,
     "metadata": {},
     "output_type": "execute_result"
    }
   ],
   "source": [
    "df.country.value_counts()"
   ]
  },
  {
   "cell_type": "code",
   "execution_count": 18,
   "id": "dcd21496",
   "metadata": {},
   "outputs": [
    {
     "data": {
      "text/plain": [
       "market_segment\n",
       "Online TA        56057\n",
       "Offline TA/TO    23774\n",
       "Groups           15661\n",
       "Direct            6582\n",
       "Corporate          692\n",
       "Complementary      103\n",
       "Aviation            25\n",
       "Name: count, dtype: int64"
      ]
     },
     "execution_count": 18,
     "metadata": {},
     "output_type": "execute_result"
    }
   ],
   "source": [
    "df.market_segment.value_counts()"
   ]
  },
  {
   "cell_type": "code",
   "execution_count": 19,
   "id": "e568b3cd",
   "metadata": {},
   "outputs": [
    {
     "data": {
      "text/plain": [
       "distribution_channel\n",
       "TA/TO        94575\n",
       "Direct        7003\n",
       "Corporate     1125\n",
       "GDS            191\n",
       "Name: count, dtype: int64"
      ]
     },
     "execution_count": 19,
     "metadata": {},
     "output_type": "execute_result"
    }
   ],
   "source": [
    "df.distribution_channel.value_counts()"
   ]
  },
  {
   "cell_type": "code",
   "execution_count": 20,
   "id": "218f47c6",
   "metadata": {},
   "outputs": [
    {
     "data": {
      "text/plain": [
       "reserved_room_type\n",
       "A    73265\n",
       "D    17535\n",
       "E     5457\n",
       "F     2537\n",
       "G     1809\n",
       "B      992\n",
       "C      765\n",
       "H      534\n",
       "Name: count, dtype: int64"
      ]
     },
     "execution_count": 20,
     "metadata": {},
     "output_type": "execute_result"
    }
   ],
   "source": [
    "df.reserved_room_type.value_counts()"
   ]
  },
  {
   "cell_type": "code",
   "execution_count": 21,
   "id": "c2bc36dd",
   "metadata": {},
   "outputs": [
    {
     "data": {
      "text/plain": [
       "assigned_room_type\n",
       "A    64502\n",
       "D    21938\n",
       "E     6306\n",
       "F     3134\n",
       "G     2169\n",
       "B     1879\n",
       "C     1868\n",
       "H      601\n",
       "I      274\n",
       "K      223\n",
       "Name: count, dtype: int64"
      ]
     },
     "execution_count": 21,
     "metadata": {},
     "output_type": "execute_result"
    }
   ],
   "source": [
    "df.assigned_room_type.value_counts()"
   ]
  },
  {
   "cell_type": "code",
   "execution_count": 22,
   "id": "01f885dd",
   "metadata": {},
   "outputs": [
    {
     "data": {
      "text/plain": [
       "deposit_type\n",
       "No Deposit    90324\n",
       "Non Refund    12522\n",
       "Refundable       48\n",
       "Name: count, dtype: int64"
      ]
     },
     "execution_count": 22,
     "metadata": {},
     "output_type": "execute_result"
    }
   ],
   "source": [
    "df.deposit_type.value_counts()"
   ]
  },
  {
   "cell_type": "code",
   "execution_count": 23,
   "id": "ad5a7223",
   "metadata": {},
   "outputs": [],
   "source": [
    "df['deposit_type'] = df['deposit_type'].replace({'Refundable':2, 'Non Refund':1, 'No Deposit':0})"
   ]
  },
  {
   "cell_type": "code",
   "execution_count": 24,
   "id": "8b57f198",
   "metadata": {},
   "outputs": [
    {
     "data": {
      "text/plain": [
       "customer_type\n",
       "Transient          77756\n",
       "Transient-Party    20602\n",
       "Contract            4063\n",
       "Group                473\n",
       "Name: count, dtype: int64"
      ]
     },
     "execution_count": 24,
     "metadata": {},
     "output_type": "execute_result"
    }
   ],
   "source": [
    "df.customer_type.value_counts()"
   ]
  },
  {
   "cell_type": "code",
   "execution_count": 25,
   "id": "455a47e4",
   "metadata": {},
   "outputs": [],
   "source": [
    "df['customer_type'] = df['customer_type'].replace({'Transient':0, 'Transient-Party':1, 'Group':2, 'Contract':3})"
   ]
  },
  {
   "cell_type": "code",
   "execution_count": 26,
   "id": "609972e5",
   "metadata": {},
   "outputs": [
    {
     "data": {
      "text/plain": [
       "reservation_status\n",
       "Check-Out    62733\n",
       "Canceled     39158\n",
       "No-Show       1003\n",
       "Name: count, dtype: int64"
      ]
     },
     "execution_count": 26,
     "metadata": {},
     "output_type": "execute_result"
    }
   ],
   "source": [
    "df['reservation_status'].value_counts()"
   ]
  },
  {
   "cell_type": "code",
   "execution_count": 27,
   "id": "e07bfc2c",
   "metadata": {},
   "outputs": [],
   "source": [
    "df['reservation_status'] = df['reservation_status'].replace({'No-Show':0, 'Canceled':0, 'Check-Out':1})"
   ]
  },
  {
   "cell_type": "code",
   "execution_count": 28,
   "id": "b36e50e8",
   "metadata": {},
   "outputs": [],
   "source": [
    "df['reservation_status_date'] = pd.to_datetime(df['reservation_status_date'])"
   ]
  },
  {
   "cell_type": "code",
   "execution_count": 29,
   "id": "e2cc724e",
   "metadata": {},
   "outputs": [],
   "source": [
    "df['year'] = df['reservation_status_date'].dt.year"
   ]
  },
  {
   "cell_type": "code",
   "execution_count": 30,
   "id": "93fbddf3",
   "metadata": {},
   "outputs": [],
   "source": [
    "df['month'] = df['reservation_status_date'].dt.month"
   ]
  },
  {
   "cell_type": "code",
   "execution_count": 31,
   "id": "8d2178ab",
   "metadata": {},
   "outputs": [],
   "source": [
    "df['day'] = df['reservation_status_date'].dt.day"
   ]
  },
  {
   "cell_type": "code",
   "execution_count": 32,
   "id": "8a315624",
   "metadata": {},
   "outputs": [
    {
     "name": "stdout",
     "output_type": "stream",
     "text": [
      "<class 'pandas.core.frame.DataFrame'>\n",
      "Index: 102894 entries, 3 to 119389\n",
      "Data columns (total 34 columns):\n",
      " #   Column                          Non-Null Count   Dtype         \n",
      "---  ------                          --------------   -----         \n",
      " 0   hotel                           102894 non-null  int64         \n",
      " 1   is_canceled                     102894 non-null  int64         \n",
      " 2   lead_time                       102894 non-null  int64         \n",
      " 3   arrival_date_year               102894 non-null  int64         \n",
      " 4   arrival_date_month              102894 non-null  int64         \n",
      " 5   arrival_date_week_number        102894 non-null  int64         \n",
      " 6   arrival_date_day_of_month       102894 non-null  int64         \n",
      " 7   stays_in_weekend_nights         102894 non-null  int64         \n",
      " 8   stays_in_week_nights            102894 non-null  int64         \n",
      " 9   adults                          102894 non-null  int64         \n",
      " 10  children                        102894 non-null  float64       \n",
      " 11  babies                          102894 non-null  int64         \n",
      " 12  meal                            102894 non-null  object        \n",
      " 13  country                         102894 non-null  object        \n",
      " 14  market_segment                  102894 non-null  object        \n",
      " 15  distribution_channel            102894 non-null  object        \n",
      " 16  is_repeated_guest               102894 non-null  int64         \n",
      " 17  previous_cancellations          102894 non-null  int64         \n",
      " 18  previous_bookings_not_canceled  102894 non-null  int64         \n",
      " 19  reserved_room_type              102894 non-null  object        \n",
      " 20  assigned_room_type              102894 non-null  object        \n",
      " 21  booking_changes                 102894 non-null  int64         \n",
      " 22  deposit_type                    102894 non-null  int64         \n",
      " 23  agent                           102894 non-null  float64       \n",
      " 24  days_in_waiting_list            102894 non-null  int64         \n",
      " 25  customer_type                   102894 non-null  int64         \n",
      " 26  adr                             102894 non-null  float64       \n",
      " 27  required_car_parking_spaces     102894 non-null  int64         \n",
      " 28  total_of_special_requests       102894 non-null  int64         \n",
      " 29  reservation_status              102894 non-null  int64         \n",
      " 30  reservation_status_date         102894 non-null  datetime64[ns]\n",
      " 31  year                            102894 non-null  int32         \n",
      " 32  month                           102894 non-null  int32         \n",
      " 33  day                             102894 non-null  int32         \n",
      "dtypes: datetime64[ns](1), float64(3), int32(3), int64(21), object(6)\n",
      "memory usage: 26.3+ MB\n"
     ]
    }
   ],
   "source": [
    "df.info()"
   ]
  },
  {
   "cell_type": "code",
   "execution_count": 33,
   "id": "f998c93f",
   "metadata": {},
   "outputs": [],
   "source": [
    "df.drop(columns=['year', 'reservation_status_date'], inplace=True)"
   ]
  },
  {
   "cell_type": "code",
   "execution_count": 34,
   "id": "5e95f4fc",
   "metadata": {},
   "outputs": [],
   "source": [
    "df = pd.get_dummies(df, columns=['meal', 'country', 'market_segment', 'distribution_channel', \n",
    "                                 'reserved_room_type', 'assigned_room_type'], dtype=int)"
   ]
  },
  {
   "cell_type": "code",
   "execution_count": 35,
   "id": "ac3584fd",
   "metadata": {
    "scrolled": false
   },
   "outputs": [
    {
     "name": "stdout",
     "output_type": "stream",
     "text": [
      "<class 'pandas.core.frame.DataFrame'>\n",
      "Index: 102894 entries, 3 to 119389\n",
      "Columns: 234 entries, hotel to assigned_room_type_K\n",
      "dtypes: float64(3), int32(2), int64(229)\n",
      "memory usage: 183.7 MB\n"
     ]
    }
   ],
   "source": [
    "df.info()"
   ]
  },
  {
   "cell_type": "markdown",
   "id": "ca3c9910",
   "metadata": {},
   "source": [
    "### Split "
   ]
  },
  {
   "cell_type": "code",
   "execution_count": 36,
   "id": "28d273c7",
   "metadata": {},
   "outputs": [],
   "source": [
    "X = df.drop(columns='is_canceled')\n",
    "y = df['is_canceled']"
   ]
  },
  {
   "cell_type": "code",
   "execution_count": 37,
   "id": "0bd7b270",
   "metadata": {},
   "outputs": [],
   "source": [
    "X_train = X.sample(frac=.8, random_state=0)\n",
    "y_train = y.sample(frac=.8, random_state=0)\n",
    "X_test = X.drop(X_train.index)\n",
    "y_test = y.drop(y_train.index)"
   ]
  },
  {
   "cell_type": "markdown",
   "id": "af91a01b",
   "metadata": {},
   "source": [
    "### Construct the Layer Class"
   ]
  },
  {
   "cell_type": "code",
   "execution_count": 38,
   "id": "eaf14388",
   "metadata": {
    "scrolled": true
   },
   "outputs": [],
   "source": [
    "class SimpleLayer(keras.layers.Layer):\n",
    "    \n",
    "    def __init__(self, units=32, activation=None):\n",
    "        super(SimpleLayer, self).__init__()\n",
    "        self.units = units\n",
    "        self.activation = tf.keras.activations.get(activation)\n",
    "        \n",
    "    def build(self, input_shape):\n",
    "        w_init = tf.random_normal_initializer()\n",
    "        self.w = tf.Variable(name=\"kernel\",\n",
    "            initial_value=w_init(shape=(input_shape[-1], self.units),\n",
    "                                 dtype='float32'),\n",
    "            trainable=True)\n",
    "        b_init = tf.zeros_initializer()\n",
    "        self.b = tf.Variable(name=\"bias\",\n",
    "            initial_value=b_init(shape=(self.units,), dtype='float32'),\n",
    "            trainable=True)\n",
    "        super().build(input_shape)\n",
    "\n",
    "\n",
    "    def call(self, inputs):\n",
    "        \n",
    "        # pass the computation to the activation layer\n",
    "        return self.activation(tf.matmul(inputs, self.w) + self.b)"
   ]
  },
  {
   "cell_type": "markdown",
   "id": "cf1084d0",
   "metadata": {},
   "source": [
    "### Model 1 - Baseline"
   ]
  },
  {
   "cell_type": "code",
   "execution_count": 40,
   "id": "c85652eb",
   "metadata": {},
   "outputs": [
    {
     "name": "stderr",
     "output_type": "stream",
     "text": [
      "2024-01-05 20:16:48.423108: I external/local_xla/xla/stream_executor/cuda/cuda_executor.cc:901] successful NUMA node read from SysFS had negative value (-1), but there must be at least one NUMA node, so returning NUMA node zero. See more at https://github.com/torvalds/linux/blob/v6.0/Documentation/ABI/testing/sysfs-bus-pci#L344-L355\n",
      "2024-01-05 20:16:48.443041: I external/local_xla/xla/stream_executor/cuda/cuda_executor.cc:901] successful NUMA node read from SysFS had negative value (-1), but there must be at least one NUMA node, so returning NUMA node zero. See more at https://github.com/torvalds/linux/blob/v6.0/Documentation/ABI/testing/sysfs-bus-pci#L344-L355\n",
      "2024-01-05 20:16:48.443234: I external/local_xla/xla/stream_executor/cuda/cuda_executor.cc:901] successful NUMA node read from SysFS had negative value (-1), but there must be at least one NUMA node, so returning NUMA node zero. See more at https://github.com/torvalds/linux/blob/v6.0/Documentation/ABI/testing/sysfs-bus-pci#L344-L355\n",
      "2024-01-05 20:16:48.444835: I external/local_xla/xla/stream_executor/cuda/cuda_executor.cc:901] successful NUMA node read from SysFS had negative value (-1), but there must be at least one NUMA node, so returning NUMA node zero. See more at https://github.com/torvalds/linux/blob/v6.0/Documentation/ABI/testing/sysfs-bus-pci#L344-L355\n",
      "2024-01-05 20:16:48.445009: I external/local_xla/xla/stream_executor/cuda/cuda_executor.cc:901] successful NUMA node read from SysFS had negative value (-1), but there must be at least one NUMA node, so returning NUMA node zero. See more at https://github.com/torvalds/linux/blob/v6.0/Documentation/ABI/testing/sysfs-bus-pci#L344-L355\n",
      "2024-01-05 20:16:48.445157: I external/local_xla/xla/stream_executor/cuda/cuda_executor.cc:901] successful NUMA node read from SysFS had negative value (-1), but there must be at least one NUMA node, so returning NUMA node zero. See more at https://github.com/torvalds/linux/blob/v6.0/Documentation/ABI/testing/sysfs-bus-pci#L344-L355\n",
      "2024-01-05 20:16:48.509353: I external/local_xla/xla/stream_executor/cuda/cuda_executor.cc:901] successful NUMA node read from SysFS had negative value (-1), but there must be at least one NUMA node, so returning NUMA node zero. See more at https://github.com/torvalds/linux/blob/v6.0/Documentation/ABI/testing/sysfs-bus-pci#L344-L355\n",
      "2024-01-05 20:16:48.509574: I external/local_xla/xla/stream_executor/cuda/cuda_executor.cc:901] successful NUMA node read from SysFS had negative value (-1), but there must be at least one NUMA node, so returning NUMA node zero. See more at https://github.com/torvalds/linux/blob/v6.0/Documentation/ABI/testing/sysfs-bus-pci#L344-L355\n",
      "2024-01-05 20:16:48.509742: I external/local_xla/xla/stream_executor/cuda/cuda_executor.cc:901] successful NUMA node read from SysFS had negative value (-1), but there must be at least one NUMA node, so returning NUMA node zero. See more at https://github.com/torvalds/linux/blob/v6.0/Documentation/ABI/testing/sysfs-bus-pci#L344-L355\n",
      "2024-01-05 20:16:48.509868: I tensorflow/core/common_runtime/gpu/gpu_device.cc:1929] Created device /job:localhost/replica:0/task:0/device:GPU:0 with 2794 MB memory:  -> device: 0, name: NVIDIA GeForce GTX 1650, pci bus id: 0000:01:00.0, compute capability: 7.5\n"
     ]
    }
   ],
   "source": [
    "inputs = keras.Input(X_train.shape[1])\n",
    "\n",
    "x = SimpleLayer(256, activation='relu')(inputs)\n",
    "\n",
    "outputs = keras.layers.Dense(1, activation='sigmoid')(x)\n",
    "\n",
    "model = keras.Model(inputs, outputs)"
   ]
  },
  {
   "cell_type": "code",
   "execution_count": 41,
   "id": "445be9fc",
   "metadata": {},
   "outputs": [],
   "source": [
    "metrics = [keras.metrics.BinaryAccuracy(),\n",
    "                      keras.metrics.Precision(),\n",
    "                      keras.metrics.Recall()]"
   ]
  },
  {
   "cell_type": "code",
   "execution_count": 42,
   "id": "42d8257d",
   "metadata": {},
   "outputs": [],
   "source": [
    "model.compile(optimizer=keras.optimizers.Adam(),\n",
    "             loss=keras.losses.BinaryCrossentropy(),\n",
    "             metrics=metrics)"
   ]
  },
  {
   "cell_type": "code",
   "execution_count": 43,
   "id": "1afb2c7a",
   "metadata": {},
   "outputs": [
    {
     "name": "stdout",
     "output_type": "stream",
     "text": [
      "Epoch 1/10\n"
     ]
    },
    {
     "name": "stderr",
     "output_type": "stream",
     "text": [
      "2024-01-05 20:17:01.214767: I external/local_tsl/tsl/platform/default/subprocess.cc:304] Start cannot spawn child process: No such file or directory\n",
      "2024-01-05 20:17:01.566133: I external/local_xla/xla/service/service.cc:168] XLA service 0x7f80601d4900 initialized for platform CUDA (this does not guarantee that XLA will be used). Devices:\n",
      "2024-01-05 20:17:01.566156: I external/local_xla/xla/service/service.cc:176]   StreamExecutor device (0): NVIDIA GeForce GTX 1650, Compute Capability 7.5\n",
      "2024-01-05 20:17:01.571499: I tensorflow/compiler/mlir/tensorflow/utils/dump_mlir_util.cc:269] disabling MLIR crash reproducer, set env var `MLIR_CRASH_REPRODUCER_DIRECTORY` to enable.\n",
      "2024-01-05 20:17:01.585741: I external/local_xla/xla/stream_executor/cuda/cuda_dnn.cc:454] Loaded cuDNN version 8907\n",
      "WARNING: All log messages before absl::InitializeLog() is called are written to STDERR\n",
      "I0000 00:00:1704496621.636189    6748 device_compiler.h:186] Compiled cluster using XLA!  This line is logged at most once for the lifetime of the process.\n"
     ]
    },
    {
     "name": "stdout",
     "output_type": "stream",
     "text": [
      "2058/2058 [==============================] - 7s 3ms/step - loss: 0.4785 - binary_accuracy: 0.9162 - precision: 0.9036 - recall: 0.8800 - val_loss: 0.0228 - val_binary_accuracy: 0.9999 - val_precision: 1.0000 - val_recall: 0.9997\n",
      "Epoch 2/10\n",
      "2058/2058 [==============================] - 5s 2ms/step - loss: 0.0580 - binary_accuracy: 0.9884 - precision: 0.9857 - recall: 0.9847 - val_loss: 0.0044 - val_binary_accuracy: 0.9999 - val_precision: 1.0000 - val_recall: 0.9998\n",
      "Epoch 3/10\n",
      "2058/2058 [==============================] - 5s 2ms/step - loss: 0.0476 - binary_accuracy: 0.9945 - precision: 0.9931 - recall: 0.9929 - val_loss: 0.0061 - val_binary_accuracy: 0.9998 - val_precision: 0.9994 - val_recall: 1.0000\n",
      "Epoch 4/10\n",
      "2058/2058 [==============================] - 5s 2ms/step - loss: 0.0784 - binary_accuracy: 0.9931 - precision: 0.9914 - recall: 0.9910 - val_loss: 0.0014 - val_binary_accuracy: 0.9998 - val_precision: 0.9998 - val_recall: 0.9997\n",
      "Epoch 5/10\n",
      "2058/2058 [==============================] - 5s 2ms/step - loss: 0.0013 - binary_accuracy: 0.9999 - precision: 0.9998 - recall: 1.0000 - val_loss: 6.6510e-04 - val_binary_accuracy: 1.0000 - val_precision: 1.0000 - val_recall: 1.0000\n",
      "Epoch 6/10\n",
      "2058/2058 [==============================] - 5s 2ms/step - loss: 0.0598 - binary_accuracy: 0.9910 - precision: 0.9888 - recall: 0.9881 - val_loss: 4.1217e-04 - val_binary_accuracy: 1.0000 - val_precision: 1.0000 - val_recall: 1.0000\n",
      "Epoch 7/10\n",
      "2058/2058 [==============================] - 5s 2ms/step - loss: 6.3190e-04 - binary_accuracy: 0.9999 - precision: 0.9998 - recall: 1.0000 - val_loss: 2.3800e-04 - val_binary_accuracy: 1.0000 - val_precision: 1.0000 - val_recall: 1.0000\n",
      "Epoch 8/10\n",
      "2058/2058 [==============================] - 5s 3ms/step - loss: 0.0398 - binary_accuracy: 0.9954 - precision: 0.9942 - recall: 0.9941 - val_loss: 3.1153e-04 - val_binary_accuracy: 1.0000 - val_precision: 1.0000 - val_recall: 1.0000\n",
      "Epoch 9/10\n",
      "2058/2058 [==============================] - 5s 2ms/step - loss: 0.0132 - binary_accuracy: 0.9979 - precision: 0.9973 - recall: 0.9972 - val_loss: 1.2470e-04 - val_binary_accuracy: 1.0000 - val_precision: 1.0000 - val_recall: 1.0000\n",
      "Epoch 10/10\n",
      "2058/2058 [==============================] - 5s 3ms/step - loss: 1.4654e-04 - binary_accuracy: 1.0000 - precision: 1.0000 - recall: 1.0000 - val_loss: 1.0225e-04 - val_binary_accuracy: 1.0000 - val_precision: 1.0000 - val_recall: 1.0000\n"
     ]
    }
   ],
   "source": [
    "history = model.fit(X_train, y_train, epochs=10, validation_split=.2)"
   ]
  }
 ],
 "metadata": {
  "kernelspec": {
   "display_name": "Python 3 (ipykernel)",
   "language": "python",
   "name": "python3"
  },
  "language_info": {
   "codemirror_mode": {
    "name": "ipython",
    "version": 3
   },
   "file_extension": ".py",
   "mimetype": "text/x-python",
   "name": "python",
   "nbconvert_exporter": "python",
   "pygments_lexer": "ipython3",
   "version": "3.11.5"
  }
 },
 "nbformat": 4,
 "nbformat_minor": 5
}
