{
 "cells": [
  {
   "cell_type": "code",
   "execution_count": 41,
   "id": "348d3474",
   "metadata": {},
   "outputs": [],
   "source": [
    "import numpy as np\n",
    "import pandas as pd\n",
    "\n",
    "import matplotlib.pyplot as plt\n",
    "import seaborn as sns\n",
    "\n",
    "\n",
    "\n",
    "import tensorflow as tf\n",
    "\n",
    "from tensorflow.keras.constraints import MinMaxNorm\n",
    "\n",
    "sns.set_context('notebook', font_scale=1.5)"
   ]
  },
  {
   "cell_type": "code",
   "execution_count": 2,
   "id": "d932d6d0",
   "metadata": {},
   "outputs": [],
   "source": [
    "hour = pd.read_csv('hour.csv')"
   ]
  },
  {
   "cell_type": "code",
   "execution_count": 3,
   "id": "ede56586",
   "metadata": {},
   "outputs": [
    {
     "data": {
      "text/html": [
       "<div>\n",
       "<style scoped>\n",
       "    .dataframe tbody tr th:only-of-type {\n",
       "        vertical-align: middle;\n",
       "    }\n",
       "\n",
       "    .dataframe tbody tr th {\n",
       "        vertical-align: top;\n",
       "    }\n",
       "\n",
       "    .dataframe thead th {\n",
       "        text-align: right;\n",
       "    }\n",
       "</style>\n",
       "<table border=\"1\" class=\"dataframe\">\n",
       "  <thead>\n",
       "    <tr style=\"text-align: right;\">\n",
       "      <th></th>\n",
       "      <th>instant</th>\n",
       "      <th>dteday</th>\n",
       "      <th>season</th>\n",
       "      <th>yr</th>\n",
       "      <th>mnth</th>\n",
       "      <th>hr</th>\n",
       "      <th>holiday</th>\n",
       "      <th>weekday</th>\n",
       "      <th>workingday</th>\n",
       "      <th>weathersit</th>\n",
       "      <th>temp</th>\n",
       "      <th>atemp</th>\n",
       "      <th>hum</th>\n",
       "      <th>windspeed</th>\n",
       "      <th>casual</th>\n",
       "      <th>registered</th>\n",
       "      <th>cnt</th>\n",
       "    </tr>\n",
       "  </thead>\n",
       "  <tbody>\n",
       "    <tr>\n",
       "      <th>0</th>\n",
       "      <td>1</td>\n",
       "      <td>2011-01-01</td>\n",
       "      <td>1</td>\n",
       "      <td>0</td>\n",
       "      <td>1</td>\n",
       "      <td>0</td>\n",
       "      <td>0</td>\n",
       "      <td>6</td>\n",
       "      <td>0</td>\n",
       "      <td>1</td>\n",
       "      <td>0.24</td>\n",
       "      <td>0.2879</td>\n",
       "      <td>0.81</td>\n",
       "      <td>0.0</td>\n",
       "      <td>3</td>\n",
       "      <td>13</td>\n",
       "      <td>16</td>\n",
       "    </tr>\n",
       "    <tr>\n",
       "      <th>1</th>\n",
       "      <td>2</td>\n",
       "      <td>2011-01-01</td>\n",
       "      <td>1</td>\n",
       "      <td>0</td>\n",
       "      <td>1</td>\n",
       "      <td>1</td>\n",
       "      <td>0</td>\n",
       "      <td>6</td>\n",
       "      <td>0</td>\n",
       "      <td>1</td>\n",
       "      <td>0.22</td>\n",
       "      <td>0.2727</td>\n",
       "      <td>0.80</td>\n",
       "      <td>0.0</td>\n",
       "      <td>8</td>\n",
       "      <td>32</td>\n",
       "      <td>40</td>\n",
       "    </tr>\n",
       "    <tr>\n",
       "      <th>2</th>\n",
       "      <td>3</td>\n",
       "      <td>2011-01-01</td>\n",
       "      <td>1</td>\n",
       "      <td>0</td>\n",
       "      <td>1</td>\n",
       "      <td>2</td>\n",
       "      <td>0</td>\n",
       "      <td>6</td>\n",
       "      <td>0</td>\n",
       "      <td>1</td>\n",
       "      <td>0.22</td>\n",
       "      <td>0.2727</td>\n",
       "      <td>0.80</td>\n",
       "      <td>0.0</td>\n",
       "      <td>5</td>\n",
       "      <td>27</td>\n",
       "      <td>32</td>\n",
       "    </tr>\n",
       "    <tr>\n",
       "      <th>3</th>\n",
       "      <td>4</td>\n",
       "      <td>2011-01-01</td>\n",
       "      <td>1</td>\n",
       "      <td>0</td>\n",
       "      <td>1</td>\n",
       "      <td>3</td>\n",
       "      <td>0</td>\n",
       "      <td>6</td>\n",
       "      <td>0</td>\n",
       "      <td>1</td>\n",
       "      <td>0.24</td>\n",
       "      <td>0.2879</td>\n",
       "      <td>0.75</td>\n",
       "      <td>0.0</td>\n",
       "      <td>3</td>\n",
       "      <td>10</td>\n",
       "      <td>13</td>\n",
       "    </tr>\n",
       "    <tr>\n",
       "      <th>4</th>\n",
       "      <td>5</td>\n",
       "      <td>2011-01-01</td>\n",
       "      <td>1</td>\n",
       "      <td>0</td>\n",
       "      <td>1</td>\n",
       "      <td>4</td>\n",
       "      <td>0</td>\n",
       "      <td>6</td>\n",
       "      <td>0</td>\n",
       "      <td>1</td>\n",
       "      <td>0.24</td>\n",
       "      <td>0.2879</td>\n",
       "      <td>0.75</td>\n",
       "      <td>0.0</td>\n",
       "      <td>0</td>\n",
       "      <td>1</td>\n",
       "      <td>1</td>\n",
       "    </tr>\n",
       "  </tbody>\n",
       "</table>\n",
       "</div>"
      ],
      "text/plain": [
       "   instant      dteday  season  yr  mnth  hr  holiday  weekday  workingday  \\\n",
       "0        1  2011-01-01       1   0     1   0        0        6           0   \n",
       "1        2  2011-01-01       1   0     1   1        0        6           0   \n",
       "2        3  2011-01-01       1   0     1   2        0        6           0   \n",
       "3        4  2011-01-01       1   0     1   3        0        6           0   \n",
       "4        5  2011-01-01       1   0     1   4        0        6           0   \n",
       "\n",
       "   weathersit  temp   atemp   hum  windspeed  casual  registered  cnt  \n",
       "0           1  0.24  0.2879  0.81        0.0       3          13   16  \n",
       "1           1  0.22  0.2727  0.80        0.0       8          32   40  \n",
       "2           1  0.22  0.2727  0.80        0.0       5          27   32  \n",
       "3           1  0.24  0.2879  0.75        0.0       3          10   13  \n",
       "4           1  0.24  0.2879  0.75        0.0       0           1    1  "
      ]
     },
     "execution_count": 3,
     "metadata": {},
     "output_type": "execute_result"
    }
   ],
   "source": [
    "hour.head()"
   ]
  },
  {
   "cell_type": "code",
   "execution_count": 4,
   "id": "cbb6b08a",
   "metadata": {},
   "outputs": [
    {
     "data": {
      "text/plain": [
       "(17379, 17)"
      ]
     },
     "execution_count": 4,
     "metadata": {},
     "output_type": "execute_result"
    }
   ],
   "source": [
    "hour.shape"
   ]
  },
  {
   "cell_type": "code",
   "execution_count": 5,
   "id": "c0c8926e",
   "metadata": {},
   "outputs": [],
   "source": [
    "hour['dteday'] = pd.to_datetime(hour['dteday'])"
   ]
  },
  {
   "cell_type": "code",
   "execution_count": 6,
   "id": "6c78e665",
   "metadata": {},
   "outputs": [],
   "source": [
    "hour['day'] = hour['dteday'].dt.day"
   ]
  },
  {
   "cell_type": "code",
   "execution_count": 7,
   "id": "ec341294",
   "metadata": {},
   "outputs": [
    {
     "data": {
      "text/html": [
       "<div>\n",
       "<style scoped>\n",
       "    .dataframe tbody tr th:only-of-type {\n",
       "        vertical-align: middle;\n",
       "    }\n",
       "\n",
       "    .dataframe tbody tr th {\n",
       "        vertical-align: top;\n",
       "    }\n",
       "\n",
       "    .dataframe thead th {\n",
       "        text-align: right;\n",
       "    }\n",
       "</style>\n",
       "<table border=\"1\" class=\"dataframe\">\n",
       "  <thead>\n",
       "    <tr style=\"text-align: right;\">\n",
       "      <th></th>\n",
       "      <th>instant</th>\n",
       "      <th>dteday</th>\n",
       "      <th>season</th>\n",
       "      <th>yr</th>\n",
       "      <th>mnth</th>\n",
       "      <th>hr</th>\n",
       "      <th>holiday</th>\n",
       "      <th>weekday</th>\n",
       "      <th>workingday</th>\n",
       "      <th>weathersit</th>\n",
       "      <th>temp</th>\n",
       "      <th>atemp</th>\n",
       "      <th>hum</th>\n",
       "      <th>windspeed</th>\n",
       "      <th>casual</th>\n",
       "      <th>registered</th>\n",
       "      <th>cnt</th>\n",
       "      <th>day</th>\n",
       "    </tr>\n",
       "  </thead>\n",
       "  <tbody>\n",
       "    <tr>\n",
       "      <th>0</th>\n",
       "      <td>1</td>\n",
       "      <td>2011-01-01</td>\n",
       "      <td>1</td>\n",
       "      <td>0</td>\n",
       "      <td>1</td>\n",
       "      <td>0</td>\n",
       "      <td>0</td>\n",
       "      <td>6</td>\n",
       "      <td>0</td>\n",
       "      <td>1</td>\n",
       "      <td>0.24</td>\n",
       "      <td>0.2879</td>\n",
       "      <td>0.81</td>\n",
       "      <td>0.0</td>\n",
       "      <td>3</td>\n",
       "      <td>13</td>\n",
       "      <td>16</td>\n",
       "      <td>1</td>\n",
       "    </tr>\n",
       "    <tr>\n",
       "      <th>1</th>\n",
       "      <td>2</td>\n",
       "      <td>2011-01-01</td>\n",
       "      <td>1</td>\n",
       "      <td>0</td>\n",
       "      <td>1</td>\n",
       "      <td>1</td>\n",
       "      <td>0</td>\n",
       "      <td>6</td>\n",
       "      <td>0</td>\n",
       "      <td>1</td>\n",
       "      <td>0.22</td>\n",
       "      <td>0.2727</td>\n",
       "      <td>0.80</td>\n",
       "      <td>0.0</td>\n",
       "      <td>8</td>\n",
       "      <td>32</td>\n",
       "      <td>40</td>\n",
       "      <td>1</td>\n",
       "    </tr>\n",
       "    <tr>\n",
       "      <th>2</th>\n",
       "      <td>3</td>\n",
       "      <td>2011-01-01</td>\n",
       "      <td>1</td>\n",
       "      <td>0</td>\n",
       "      <td>1</td>\n",
       "      <td>2</td>\n",
       "      <td>0</td>\n",
       "      <td>6</td>\n",
       "      <td>0</td>\n",
       "      <td>1</td>\n",
       "      <td>0.22</td>\n",
       "      <td>0.2727</td>\n",
       "      <td>0.80</td>\n",
       "      <td>0.0</td>\n",
       "      <td>5</td>\n",
       "      <td>27</td>\n",
       "      <td>32</td>\n",
       "      <td>1</td>\n",
       "    </tr>\n",
       "    <tr>\n",
       "      <th>3</th>\n",
       "      <td>4</td>\n",
       "      <td>2011-01-01</td>\n",
       "      <td>1</td>\n",
       "      <td>0</td>\n",
       "      <td>1</td>\n",
       "      <td>3</td>\n",
       "      <td>0</td>\n",
       "      <td>6</td>\n",
       "      <td>0</td>\n",
       "      <td>1</td>\n",
       "      <td>0.24</td>\n",
       "      <td>0.2879</td>\n",
       "      <td>0.75</td>\n",
       "      <td>0.0</td>\n",
       "      <td>3</td>\n",
       "      <td>10</td>\n",
       "      <td>13</td>\n",
       "      <td>1</td>\n",
       "    </tr>\n",
       "    <tr>\n",
       "      <th>4</th>\n",
       "      <td>5</td>\n",
       "      <td>2011-01-01</td>\n",
       "      <td>1</td>\n",
       "      <td>0</td>\n",
       "      <td>1</td>\n",
       "      <td>4</td>\n",
       "      <td>0</td>\n",
       "      <td>6</td>\n",
       "      <td>0</td>\n",
       "      <td>1</td>\n",
       "      <td>0.24</td>\n",
       "      <td>0.2879</td>\n",
       "      <td>0.75</td>\n",
       "      <td>0.0</td>\n",
       "      <td>0</td>\n",
       "      <td>1</td>\n",
       "      <td>1</td>\n",
       "      <td>1</td>\n",
       "    </tr>\n",
       "  </tbody>\n",
       "</table>\n",
       "</div>"
      ],
      "text/plain": [
       "   instant     dteday  season  yr  mnth  hr  holiday  weekday  workingday  \\\n",
       "0        1 2011-01-01       1   0     1   0        0        6           0   \n",
       "1        2 2011-01-01       1   0     1   1        0        6           0   \n",
       "2        3 2011-01-01       1   0     1   2        0        6           0   \n",
       "3        4 2011-01-01       1   0     1   3        0        6           0   \n",
       "4        5 2011-01-01       1   0     1   4        0        6           0   \n",
       "\n",
       "   weathersit  temp   atemp   hum  windspeed  casual  registered  cnt  day  \n",
       "0           1  0.24  0.2879  0.81        0.0       3          13   16    1  \n",
       "1           1  0.22  0.2727  0.80        0.0       8          32   40    1  \n",
       "2           1  0.22  0.2727  0.80        0.0       5          27   32    1  \n",
       "3           1  0.24  0.2879  0.75        0.0       3          10   13    1  \n",
       "4           1  0.24  0.2879  0.75        0.0       0           1    1    1  "
      ]
     },
     "execution_count": 7,
     "metadata": {},
     "output_type": "execute_result"
    }
   ],
   "source": [
    "hour.head()"
   ]
  },
  {
   "cell_type": "code",
   "execution_count": 8,
   "id": "1a915114",
   "metadata": {},
   "outputs": [],
   "source": [
    "hour.drop(columns=['instant', 'dteday', 'casual', 'registered'], inplace=True)"
   ]
  },
  {
   "cell_type": "code",
   "execution_count": 9,
   "id": "e8e61b5c",
   "metadata": {},
   "outputs": [
    {
     "data": {
      "text/html": [
       "<div>\n",
       "<style scoped>\n",
       "    .dataframe tbody tr th:only-of-type {\n",
       "        vertical-align: middle;\n",
       "    }\n",
       "\n",
       "    .dataframe tbody tr th {\n",
       "        vertical-align: top;\n",
       "    }\n",
       "\n",
       "    .dataframe thead th {\n",
       "        text-align: right;\n",
       "    }\n",
       "</style>\n",
       "<table border=\"1\" class=\"dataframe\">\n",
       "  <thead>\n",
       "    <tr style=\"text-align: right;\">\n",
       "      <th></th>\n",
       "      <th>season</th>\n",
       "      <th>yr</th>\n",
       "      <th>mnth</th>\n",
       "      <th>hr</th>\n",
       "      <th>holiday</th>\n",
       "      <th>weekday</th>\n",
       "      <th>workingday</th>\n",
       "      <th>weathersit</th>\n",
       "      <th>temp</th>\n",
       "      <th>atemp</th>\n",
       "      <th>hum</th>\n",
       "      <th>windspeed</th>\n",
       "      <th>cnt</th>\n",
       "      <th>day</th>\n",
       "    </tr>\n",
       "  </thead>\n",
       "  <tbody>\n",
       "    <tr>\n",
       "      <th>0</th>\n",
       "      <td>1</td>\n",
       "      <td>0</td>\n",
       "      <td>1</td>\n",
       "      <td>0</td>\n",
       "      <td>0</td>\n",
       "      <td>6</td>\n",
       "      <td>0</td>\n",
       "      <td>1</td>\n",
       "      <td>0.24</td>\n",
       "      <td>0.2879</td>\n",
       "      <td>0.81</td>\n",
       "      <td>0.0</td>\n",
       "      <td>16</td>\n",
       "      <td>1</td>\n",
       "    </tr>\n",
       "    <tr>\n",
       "      <th>1</th>\n",
       "      <td>1</td>\n",
       "      <td>0</td>\n",
       "      <td>1</td>\n",
       "      <td>1</td>\n",
       "      <td>0</td>\n",
       "      <td>6</td>\n",
       "      <td>0</td>\n",
       "      <td>1</td>\n",
       "      <td>0.22</td>\n",
       "      <td>0.2727</td>\n",
       "      <td>0.80</td>\n",
       "      <td>0.0</td>\n",
       "      <td>40</td>\n",
       "      <td>1</td>\n",
       "    </tr>\n",
       "    <tr>\n",
       "      <th>2</th>\n",
       "      <td>1</td>\n",
       "      <td>0</td>\n",
       "      <td>1</td>\n",
       "      <td>2</td>\n",
       "      <td>0</td>\n",
       "      <td>6</td>\n",
       "      <td>0</td>\n",
       "      <td>1</td>\n",
       "      <td>0.22</td>\n",
       "      <td>0.2727</td>\n",
       "      <td>0.80</td>\n",
       "      <td>0.0</td>\n",
       "      <td>32</td>\n",
       "      <td>1</td>\n",
       "    </tr>\n",
       "    <tr>\n",
       "      <th>3</th>\n",
       "      <td>1</td>\n",
       "      <td>0</td>\n",
       "      <td>1</td>\n",
       "      <td>3</td>\n",
       "      <td>0</td>\n",
       "      <td>6</td>\n",
       "      <td>0</td>\n",
       "      <td>1</td>\n",
       "      <td>0.24</td>\n",
       "      <td>0.2879</td>\n",
       "      <td>0.75</td>\n",
       "      <td>0.0</td>\n",
       "      <td>13</td>\n",
       "      <td>1</td>\n",
       "    </tr>\n",
       "    <tr>\n",
       "      <th>4</th>\n",
       "      <td>1</td>\n",
       "      <td>0</td>\n",
       "      <td>1</td>\n",
       "      <td>4</td>\n",
       "      <td>0</td>\n",
       "      <td>6</td>\n",
       "      <td>0</td>\n",
       "      <td>1</td>\n",
       "      <td>0.24</td>\n",
       "      <td>0.2879</td>\n",
       "      <td>0.75</td>\n",
       "      <td>0.0</td>\n",
       "      <td>1</td>\n",
       "      <td>1</td>\n",
       "    </tr>\n",
       "  </tbody>\n",
       "</table>\n",
       "</div>"
      ],
      "text/plain": [
       "   season  yr  mnth  hr  holiday  weekday  workingday  weathersit  temp  \\\n",
       "0       1   0     1   0        0        6           0           1  0.24   \n",
       "1       1   0     1   1        0        6           0           1  0.22   \n",
       "2       1   0     1   2        0        6           0           1  0.22   \n",
       "3       1   0     1   3        0        6           0           1  0.24   \n",
       "4       1   0     1   4        0        6           0           1  0.24   \n",
       "\n",
       "    atemp   hum  windspeed  cnt  day  \n",
       "0  0.2879  0.81        0.0   16    1  \n",
       "1  0.2727  0.80        0.0   40    1  \n",
       "2  0.2727  0.80        0.0   32    1  \n",
       "3  0.2879  0.75        0.0   13    1  \n",
       "4  0.2879  0.75        0.0    1    1  "
      ]
     },
     "execution_count": 9,
     "metadata": {},
     "output_type": "execute_result"
    }
   ],
   "source": [
    "hour.head()"
   ]
  },
  {
   "cell_type": "code",
   "execution_count": 10,
   "id": "e3b49269",
   "metadata": {},
   "outputs": [
    {
     "data": {
      "text/plain": [
       "season        0\n",
       "yr            0\n",
       "mnth          0\n",
       "hr            0\n",
       "holiday       0\n",
       "weekday       0\n",
       "workingday    0\n",
       "weathersit    0\n",
       "temp          0\n",
       "atemp         0\n",
       "hum           0\n",
       "windspeed     0\n",
       "cnt           0\n",
       "day           0\n",
       "dtype: int64"
      ]
     },
     "execution_count": 10,
     "metadata": {},
     "output_type": "execute_result"
    }
   ],
   "source": [
    "hour.isnull().sum()"
   ]
  },
  {
   "cell_type": "code",
   "execution_count": 11,
   "id": "22d4d87f",
   "metadata": {},
   "outputs": [
    {
     "data": {
      "text/plain": [
       "0"
      ]
     },
     "execution_count": 11,
     "metadata": {},
     "output_type": "execute_result"
    }
   ],
   "source": [
    "hour.duplicated().sum()"
   ]
  },
  {
   "cell_type": "code",
   "execution_count": 12,
   "id": "8edb055a",
   "metadata": {},
   "outputs": [
    {
     "name": "stdout",
     "output_type": "stream",
     "text": [
      "<class 'pandas.core.frame.DataFrame'>\n",
      "RangeIndex: 17379 entries, 0 to 17378\n",
      "Data columns (total 14 columns):\n",
      " #   Column      Non-Null Count  Dtype  \n",
      "---  ------      --------------  -----  \n",
      " 0   season      17379 non-null  int64  \n",
      " 1   yr          17379 non-null  int64  \n",
      " 2   mnth        17379 non-null  int64  \n",
      " 3   hr          17379 non-null  int64  \n",
      " 4   holiday     17379 non-null  int64  \n",
      " 5   weekday     17379 non-null  int64  \n",
      " 6   workingday  17379 non-null  int64  \n",
      " 7   weathersit  17379 non-null  int64  \n",
      " 8   temp        17379 non-null  float64\n",
      " 9   atemp       17379 non-null  float64\n",
      " 10  hum         17379 non-null  float64\n",
      " 11  windspeed   17379 non-null  float64\n",
      " 12  cnt         17379 non-null  int64  \n",
      " 13  day         17379 non-null  int32  \n",
      "dtypes: float64(4), int32(1), int64(9)\n",
      "memory usage: 1.8 MB\n"
     ]
    }
   ],
   "source": [
    "hour.info()"
   ]
  },
  {
   "cell_type": "markdown",
   "id": "bd86312c",
   "metadata": {},
   "source": [
    "### Split"
   ]
  },
  {
   "cell_type": "code",
   "execution_count": 35,
   "id": "6ae42e54",
   "metadata": {},
   "outputs": [],
   "source": [
    "normalization = tf.keras.constraints.MinMaxNorm(min_value=0, max_value=1)"
   ]
  },
  {
   "cell_type": "code",
   "execution_count": 31,
   "id": "1acc9476",
   "metadata": {},
   "outputs": [],
   "source": [
    "X = hour.drop(columns=['cnt'])\n",
    "y = hour['cnt']\n",
    "minmax = MinMaxScaler(feature_range=(0, 1))"
   ]
  },
  {
   "cell_type": "code",
   "execution_count": 57,
   "id": "2d8febf8",
   "metadata": {},
   "outputs": [],
   "source": [
    "X_train = X.sample(frac=.8, random_state=0)\n",
    "y_train = y.sample(frac=.8, random_state=0)\n",
    "X_test = X.drop(X_train.index)\n",
    "y_test = y.drop(y_train.index)"
   ]
  },
  {
   "cell_type": "code",
   "execution_count": 58,
   "id": "52348b82",
   "metadata": {},
   "outputs": [
    {
     "name": "stdout",
     "output_type": "stream",
     "text": [
      "(13903, 13)\n",
      "(13903,)\n",
      "(3476, 13)\n",
      "(3476,)\n"
     ]
    }
   ],
   "source": [
    "print(X_train.shape)\n",
    "print(y_train.shape)\n",
    "print(X_test.shape)\n",
    "print(y_test.shape)"
   ]
  },
  {
   "cell_type": "code",
   "execution_count": null,
   "id": "312c0fa3",
   "metadata": {},
   "outputs": [],
   "source": [
    "normalization."
   ]
  },
  {
   "cell_type": "markdown",
   "id": "71fe0fd5",
   "metadata": {},
   "source": [
    "### Model with Neural Networks - Linear Regression - Baseline"
   ]
  },
  {
   "cell_type": "code",
   "execution_count": null,
   "id": "8a0845fc",
   "metadata": {},
   "outputs": [],
   "source": [
    "model = tf.keras.Sequential([\n",
    "        tf.keras.layers.Dense(1, activation='relu', input_shape=[X_train.shape[1]]),\n",
    "        tf.keras.layers.Dense(1)\n",
    "    ])\n",
    "\n",
    "model.compile(\n",
    "        optimizer=tf.keras.optimizers.Adam(),\n",
    "        loss=['mse'],\n",
    "        metrics=[\"mae\"],\n",
    "    )\n"
   ]
  },
  {
   "cell_type": "code",
   "execution_count": null,
   "id": "427c88bc",
   "metadata": {},
   "outputs": [],
   "source": [
    "model.build()"
   ]
  },
  {
   "cell_type": "code",
   "execution_count": null,
   "id": "1c97e8a2",
   "metadata": {
    "scrolled": true
   },
   "outputs": [],
   "source": [
    "model.summary()"
   ]
  },
  {
   "cell_type": "code",
   "execution_count": null,
   "id": "faff04c4",
   "metadata": {},
   "outputs": [],
   "source": [
    "history = model.fit(X_train, y_train, epochs=100, validation_split=.2, verbose=1)"
   ]
  },
  {
   "cell_type": "code",
   "execution_count": null,
   "id": "77fa6702",
   "metadata": {},
   "outputs": [],
   "source": [
    "def plot_loss():\n",
    "    plt.figure(figsize=(10,7))\n",
    "    plt.plot(history.history['loss'], label='loss')\n",
    "    plt.plot(history.history['val_loss'], label='val_loss')\n",
    "    plt.xlabel('Epoch')\n",
    "    plt.ylabel('Loss')\n",
    "    plt.legend()\n",
    "    plt.grid(True)\n"
   ]
  },
  {
   "cell_type": "code",
   "execution_count": null,
   "id": "28d3fbf9",
   "metadata": {},
   "outputs": [],
   "source": [
    "plot_loss()"
   ]
  },
  {
   "cell_type": "code",
   "execution_count": null,
   "id": "3735a904",
   "metadata": {},
   "outputs": [],
   "source": [
    "def plot_mae():\n",
    "    plt.figure(figsize=(10,7))\n",
    "    plt.plot(history.history['mae'], label='Training (MAE)')\n",
    "    plt.plot(history.history['val_mae'], label='Validation (MAE)')\n",
    "    plt.xlabel('Epoch')\n",
    "    plt.ylabel('MAE')\n",
    "    plt.legend()\n",
    "    plt.grid(True)\n"
   ]
  },
  {
   "cell_type": "code",
   "execution_count": null,
   "id": "567976c6",
   "metadata": {},
   "outputs": [],
   "source": [
    "plot_mae()"
   ]
  },
  {
   "cell_type": "markdown",
   "id": "9112c4f0",
   "metadata": {},
   "source": [
    "### Model Linear Regression  - Fine Tuning "
   ]
  },
  {
   "cell_type": "code",
   "execution_count": 69,
   "id": "0977510f",
   "metadata": {},
   "outputs": [],
   "source": [
    "X_train = (X_train - X_train.mean()) / X_train.std()\n",
    "X_test = (X_test - X_test.mean()) / X_test.std()\n",
    "y_train = (y_train - y_train.mean()) / y_train.std()\n",
    "y_test = (y_test - y_test.mean()) / y_test.std()"
   ]
  },
  {
   "cell_type": "code",
   "execution_count": 90,
   "id": "3611cf56",
   "metadata": {},
   "outputs": [],
   "source": [
    "model = tf.keras.Sequential([\n",
    "    tf.keras.layers.BatchNormalization(input_shape=[X_train.shape[1]]),\n",
    "    tf.keras.layers.Dense(2048, activation='relu'),\n",
    "    tf.keras.layers.Dense(2048, activation='relu'),\n",
    "    tf.keras.layers.Dense(2048, activation='relu'),\n",
    "    tf.keras.layers.Dense(2048, activation='relu'),\n",
    "    tf.keras.layers.Dense(1, activation='relu'),\n",
    "])\n",
    "\n",
    "model.compile(optimizer=tf.keras.optimizers.Adam(learning_rate=0.0001),\n",
    "              loss=['mse'],\n",
    "              metrics=['mae'])"
   ]
  },
  {
   "cell_type": "code",
   "execution_count": 91,
   "id": "c5c14faf",
   "metadata": {},
   "outputs": [],
   "source": [
    "model.build()"
   ]
  },
  {
   "cell_type": "code",
   "execution_count": 92,
   "id": "3d175935",
   "metadata": {},
   "outputs": [
    {
     "name": "stdout",
     "output_type": "stream",
     "text": [
      "Model: \"sequential_11\"\n",
      "_________________________________________________________________\n",
      " Layer (type)                Output Shape              Param #   \n",
      "=================================================================\n",
      " batch_normalization_4 (Bat  (None, 13)                52        \n",
      " chNormalization)                                                \n",
      "                                                                 \n",
      " dense_56 (Dense)            (None, 2048)              28672     \n",
      "                                                                 \n",
      " dense_57 (Dense)            (None, 2048)              4196352   \n",
      "                                                                 \n",
      " dense_58 (Dense)            (None, 2048)              4196352   \n",
      "                                                                 \n",
      " dense_59 (Dense)            (None, 2048)              4196352   \n",
      "                                                                 \n",
      " dense_60 (Dense)            (None, 1)                 2049      \n",
      "                                                                 \n",
      "=================================================================\n",
      "Total params: 12619829 (48.14 MB)\n",
      "Trainable params: 12619803 (48.14 MB)\n",
      "Non-trainable params: 26 (104.00 Byte)\n",
      "_________________________________________________________________\n"
     ]
    }
   ],
   "source": [
    "model.summary()"
   ]
  },
  {
   "cell_type": "code",
   "execution_count": 95,
   "id": "3fb1de7f",
   "metadata": {},
   "outputs": [
    {
     "name": "stdout",
     "output_type": "stream",
     "text": [
      "Epoch 1/100\n",
      "348/348 [==============================] - 5s 10ms/step - loss: 0.7129 - mae: 0.6974 - val_loss: 0.7886 - val_mae: 0.7504\n",
      "Epoch 2/100\n",
      "348/348 [==============================] - 3s 10ms/step - loss: 0.6453 - mae: 0.6672 - val_loss: 0.6425 - val_mae: 0.6546\n",
      "Epoch 3/100\n",
      "348/348 [==============================] - 3s 10ms/step - loss: 0.6161 - mae: 0.6546 - val_loss: 0.5899 - val_mae: 0.6343\n",
      "Epoch 4/100\n",
      "348/348 [==============================] - 3s 10ms/step - loss: 0.6201 - mae: 0.6579 - val_loss: 0.5697 - val_mae: 0.6411\n",
      "Epoch 5/100\n",
      "348/348 [==============================] - 3s 10ms/step - loss: 0.6007 - mae: 0.6468 - val_loss: 0.5635 - val_mae: 0.6209\n",
      "Epoch 6/100\n",
      "348/348 [==============================] - 3s 10ms/step - loss: 0.6022 - mae: 0.6439 - val_loss: 0.5686 - val_mae: 0.6285\n",
      "Epoch 7/100\n",
      "348/348 [==============================] - 4s 10ms/step - loss: 0.5882 - mae: 0.6392 - val_loss: 0.5315 - val_mae: 0.6118\n",
      "Epoch 8/100\n",
      "348/348 [==============================] - 4s 10ms/step - loss: 0.5835 - mae: 0.6385 - val_loss: 0.5302 - val_mae: 0.6072\n",
      "Epoch 9/100\n",
      "348/348 [==============================] - 4s 10ms/step - loss: 0.5850 - mae: 0.6371 - val_loss: 0.6121 - val_mae: 0.6491\n",
      "Epoch 10/100\n",
      "348/348 [==============================] - 4s 10ms/step - loss: 0.5712 - mae: 0.6311 - val_loss: 0.5028 - val_mae: 0.5957\n",
      "Epoch 11/100\n",
      "348/348 [==============================] - 3s 10ms/step - loss: 0.5609 - mae: 0.6233 - val_loss: 0.5001 - val_mae: 0.5931\n",
      "Epoch 12/100\n",
      "348/348 [==============================] - 3s 10ms/step - loss: 0.5694 - mae: 0.6298 - val_loss: 0.5175 - val_mae: 0.5956\n",
      "Epoch 13/100\n",
      "348/348 [==============================] - 3s 10ms/step - loss: 0.5610 - mae: 0.6250 - val_loss: 0.5264 - val_mae: 0.6011\n",
      "Epoch 14/100\n",
      "348/348 [==============================] - 3s 10ms/step - loss: 0.5645 - mae: 0.6265 - val_loss: 0.5219 - val_mae: 0.6017\n",
      "Epoch 15/100\n",
      "348/348 [==============================] - 3s 10ms/step - loss: 0.5655 - mae: 0.6273 - val_loss: 0.5231 - val_mae: 0.6088\n",
      "Epoch 16/100\n",
      "348/348 [==============================] - 3s 10ms/step - loss: 0.5521 - mae: 0.6215 - val_loss: 0.5412 - val_mae: 0.6099\n",
      "Epoch 17/100\n",
      "348/348 [==============================] - 3s 10ms/step - loss: 0.5551 - mae: 0.6206 - val_loss: 0.5199 - val_mae: 0.6082\n",
      "Epoch 18/100\n",
      "348/348 [==============================] - 3s 10ms/step - loss: 0.5608 - mae: 0.6225 - val_loss: 0.5408 - val_mae: 0.6077\n",
      "Epoch 19/100\n",
      "348/348 [==============================] - 3s 10ms/step - loss: 0.5582 - mae: 0.6228 - val_loss: 0.5080 - val_mae: 0.6028\n",
      "Epoch 20/100\n",
      "348/348 [==============================] - 3s 10ms/step - loss: 0.5491 - mae: 0.6184 - val_loss: 0.5240 - val_mae: 0.6094\n",
      "Epoch 21/100\n",
      "348/348 [==============================] - 3s 10ms/step - loss: 0.5544 - mae: 0.6189 - val_loss: 0.5099 - val_mae: 0.5958\n",
      "Epoch 22/100\n",
      "348/348 [==============================] - 3s 10ms/step - loss: 0.5435 - mae: 0.6166 - val_loss: 0.5244 - val_mae: 0.5998\n",
      "Epoch 23/100\n",
      "348/348 [==============================] - 3s 10ms/step - loss: 0.5443 - mae: 0.6172 - val_loss: 0.5106 - val_mae: 0.5999\n",
      "Epoch 24/100\n",
      "348/348 [==============================] - 4s 10ms/step - loss: 0.5480 - mae: 0.6182 - val_loss: 0.5041 - val_mae: 0.5956\n",
      "Epoch 25/100\n",
      "348/348 [==============================] - 4s 10ms/step - loss: 0.5496 - mae: 0.6184 - val_loss: 0.5462 - val_mae: 0.6152\n",
      "Epoch 26/100\n",
      "348/348 [==============================] - 4s 10ms/step - loss: 0.5487 - mae: 0.6179 - val_loss: 0.5092 - val_mae: 0.5988\n",
      "Epoch 27/100\n",
      "348/348 [==============================] - 3s 10ms/step - loss: 0.5355 - mae: 0.6125 - val_loss: 0.4990 - val_mae: 0.5875\n",
      "Epoch 28/100\n",
      "348/348 [==============================] - 4s 11ms/step - loss: 0.5361 - mae: 0.6103 - val_loss: 0.5156 - val_mae: 0.6092\n",
      "Epoch 29/100\n",
      "348/348 [==============================] - 4s 10ms/step - loss: 0.5377 - mae: 0.6103 - val_loss: 0.4950 - val_mae: 0.5872\n",
      "Epoch 30/100\n",
      "348/348 [==============================] - 4s 11ms/step - loss: 0.5401 - mae: 0.6141 - val_loss: 0.4910 - val_mae: 0.5934\n",
      "Epoch 31/100\n",
      "348/348 [==============================] - 4s 10ms/step - loss: 0.5308 - mae: 0.6080 - val_loss: 0.5208 - val_mae: 0.5999\n",
      "Epoch 32/100\n",
      "348/348 [==============================] - 4s 10ms/step - loss: 0.5360 - mae: 0.6085 - val_loss: 0.5445 - val_mae: 0.6215\n",
      "Epoch 33/100\n",
      "348/348 [==============================] - 4s 10ms/step - loss: 0.5378 - mae: 0.6104 - val_loss: 0.4895 - val_mae: 0.5897\n",
      "Epoch 34/100\n",
      "348/348 [==============================] - 4s 10ms/step - loss: 0.5231 - mae: 0.6044 - val_loss: 0.4866 - val_mae: 0.5871\n",
      "Epoch 35/100\n",
      "348/348 [==============================] - 4s 10ms/step - loss: 0.5377 - mae: 0.6086 - val_loss: 0.5207 - val_mae: 0.6056\n",
      "Epoch 36/100\n",
      "348/348 [==============================] - 4s 10ms/step - loss: 0.5251 - mae: 0.6048 - val_loss: 0.5037 - val_mae: 0.6001\n",
      "Epoch 37/100\n",
      "348/348 [==============================] - 4s 10ms/step - loss: 0.5405 - mae: 0.6118 - val_loss: 0.5112 - val_mae: 0.6018\n",
      "Epoch 38/100\n",
      "348/348 [==============================] - 4s 10ms/step - loss: 0.5137 - mae: 0.5973 - val_loss: 0.4935 - val_mae: 0.5915\n",
      "Epoch 39/100\n",
      "348/348 [==============================] - 4s 10ms/step - loss: 0.5224 - mae: 0.6032 - val_loss: 0.5014 - val_mae: 0.5975\n",
      "Epoch 40/100\n",
      "348/348 [==============================] - 4s 10ms/step - loss: 0.5232 - mae: 0.6028 - val_loss: 0.5294 - val_mae: 0.6104\n",
      "Epoch 41/100\n",
      "348/348 [==============================] - 3s 10ms/step - loss: 0.5257 - mae: 0.6041 - val_loss: 0.5055 - val_mae: 0.6003\n",
      "Epoch 42/100\n",
      "348/348 [==============================] - 3s 10ms/step - loss: 0.5202 - mae: 0.6022 - val_loss: 0.5177 - val_mae: 0.6097\n",
      "Epoch 43/100\n",
      "348/348 [==============================] - 4s 10ms/step - loss: 0.5184 - mae: 0.6019 - val_loss: 0.5045 - val_mae: 0.6005\n",
      "Epoch 44/100\n",
      "348/348 [==============================] - 4s 10ms/step - loss: 0.5202 - mae: 0.6007 - val_loss: 0.5204 - val_mae: 0.6052\n",
      "Epoch 45/100\n",
      "348/348 [==============================] - 4s 10ms/step - loss: 0.5187 - mae: 0.6031 - val_loss: 0.5004 - val_mae: 0.5923\n",
      "Epoch 46/100\n",
      "348/348 [==============================] - 4s 10ms/step - loss: 0.5201 - mae: 0.6022 - val_loss: 0.4949 - val_mae: 0.5906\n",
      "Epoch 47/100\n",
      "348/348 [==============================] - 4s 11ms/step - loss: 0.5028 - mae: 0.5896 - val_loss: 0.5020 - val_mae: 0.5899\n",
      "Epoch 48/100\n",
      "348/348 [==============================] - 3s 10ms/step - loss: 0.5224 - mae: 0.6000 - val_loss: 0.5232 - val_mae: 0.6087\n",
      "Epoch 49/100\n",
      "348/348 [==============================] - 4s 10ms/step - loss: 0.5020 - mae: 0.5917 - val_loss: 0.5106 - val_mae: 0.6065\n",
      "Epoch 50/100\n",
      "348/348 [==============================] - 4s 10ms/step - loss: 0.5121 - mae: 0.5957 - val_loss: 0.5258 - val_mae: 0.6005\n",
      "Epoch 51/100\n",
      "348/348 [==============================] - 3s 10ms/step - loss: 0.5099 - mae: 0.5939 - val_loss: 0.4846 - val_mae: 0.5890\n",
      "Epoch 52/100\n",
      "348/348 [==============================] - 3s 10ms/step - loss: 0.5019 - mae: 0.5893 - val_loss: 0.4802 - val_mae: 0.5839\n",
      "Epoch 53/100\n",
      "348/348 [==============================] - 3s 10ms/step - loss: 0.5156 - mae: 0.5964 - val_loss: 0.5101 - val_mae: 0.6051\n",
      "Epoch 54/100\n",
      "348/348 [==============================] - 4s 10ms/step - loss: 0.5038 - mae: 0.5914 - val_loss: 0.4909 - val_mae: 0.5867\n",
      "Epoch 55/100\n",
      "348/348 [==============================] - 3s 10ms/step - loss: 0.5250 - mae: 0.6021 - val_loss: 0.5160 - val_mae: 0.5930\n",
      "Epoch 56/100\n",
      "348/348 [==============================] - 4s 10ms/step - loss: 0.5152 - mae: 0.5971 - val_loss: 0.5051 - val_mae: 0.5947\n",
      "Epoch 57/100\n",
      "348/348 [==============================] - 4s 10ms/step - loss: 0.5157 - mae: 0.5968 - val_loss: 0.5137 - val_mae: 0.6006\n",
      "Epoch 58/100\n",
      "348/348 [==============================] - 4s 10ms/step - loss: 0.5200 - mae: 0.6009 - val_loss: 0.5087 - val_mae: 0.5979\n",
      "Epoch 59/100\n",
      "348/348 [==============================] - 3s 10ms/step - loss: 0.5066 - mae: 0.5914 - val_loss: 0.5177 - val_mae: 0.6055\n",
      "Epoch 60/100\n",
      "348/348 [==============================] - 3s 10ms/step - loss: 0.4957 - mae: 0.5859 - val_loss: 0.5137 - val_mae: 0.5985\n",
      "Epoch 61/100\n",
      "348/348 [==============================] - 3s 10ms/step - loss: 0.5044 - mae: 0.5910 - val_loss: 0.5188 - val_mae: 0.6010\n"
     ]
    },
    {
     "name": "stdout",
     "output_type": "stream",
     "text": [
      "Epoch 62/100\n",
      "348/348 [==============================] - 4s 10ms/step - loss: 0.4980 - mae: 0.5876 - val_loss: 0.5066 - val_mae: 0.5986\n",
      "Epoch 63/100\n",
      "348/348 [==============================] - 4s 10ms/step - loss: 0.4989 - mae: 0.5855 - val_loss: 0.5134 - val_mae: 0.6050\n",
      "Epoch 64/100\n",
      "348/348 [==============================] - 3s 10ms/step - loss: 0.5080 - mae: 0.5913 - val_loss: 0.5174 - val_mae: 0.6049\n",
      "Epoch 65/100\n",
      "348/348 [==============================] - 4s 10ms/step - loss: 0.5043 - mae: 0.5876 - val_loss: 0.5190 - val_mae: 0.5985\n",
      "Epoch 66/100\n",
      "348/348 [==============================] - 4s 10ms/step - loss: 0.5004 - mae: 0.5881 - val_loss: 0.5122 - val_mae: 0.6008\n",
      "Epoch 67/100\n",
      "348/348 [==============================] - 4s 11ms/step - loss: 0.5083 - mae: 0.5908 - val_loss: 0.5154 - val_mae: 0.5986\n",
      "Epoch 68/100\n",
      "348/348 [==============================] - 4s 11ms/step - loss: 0.4914 - mae: 0.5806 - val_loss: 0.5314 - val_mae: 0.6067\n",
      "Epoch 69/100\n",
      "348/348 [==============================] - 4s 10ms/step - loss: 0.5008 - mae: 0.5884 - val_loss: 0.5066 - val_mae: 0.5994\n",
      "Epoch 70/100\n",
      "348/348 [==============================] - 4s 10ms/step - loss: 0.5030 - mae: 0.5889 - val_loss: 0.5208 - val_mae: 0.6000\n",
      "Epoch 71/100\n",
      "348/348 [==============================] - 3s 10ms/step - loss: 0.5065 - mae: 0.5905 - val_loss: 0.5250 - val_mae: 0.6083\n",
      "Epoch 72/100\n",
      "348/348 [==============================] - 4s 11ms/step - loss: 0.5084 - mae: 0.5919 - val_loss: 0.5205 - val_mae: 0.6036\n",
      "Epoch 73/100\n",
      "348/348 [==============================] - 4s 10ms/step - loss: 0.4907 - mae: 0.5840 - val_loss: 0.5580 - val_mae: 0.6203\n",
      "Epoch 74/100\n",
      "348/348 [==============================] - 4s 11ms/step - loss: 0.4951 - mae: 0.5852 - val_loss: 0.5446 - val_mae: 0.6177\n",
      "Epoch 75/100\n",
      "348/348 [==============================] - 4s 10ms/step - loss: 0.4980 - mae: 0.5854 - val_loss: 0.5230 - val_mae: 0.6033\n",
      "Epoch 76/100\n",
      "348/348 [==============================] - 4s 10ms/step - loss: 0.4895 - mae: 0.5828 - val_loss: 0.5103 - val_mae: 0.6030\n",
      "Epoch 77/100\n",
      "348/348 [==============================] - 3s 10ms/step - loss: 0.5088 - mae: 0.5904 - val_loss: 0.5555 - val_mae: 0.6252\n",
      "Epoch 78/100\n",
      "348/348 [==============================] - 3s 10ms/step - loss: 0.4850 - mae: 0.5794 - val_loss: 0.5252 - val_mae: 0.6060\n",
      "Epoch 79/100\n",
      "348/348 [==============================] - 3s 10ms/step - loss: 0.4956 - mae: 0.5870 - val_loss: 0.5361 - val_mae: 0.6059\n",
      "Epoch 80/100\n",
      "348/348 [==============================] - 4s 10ms/step - loss: 0.4967 - mae: 0.5847 - val_loss: 0.5295 - val_mae: 0.6066\n",
      "Epoch 81/100\n",
      "348/348 [==============================] - 4s 10ms/step - loss: 0.4983 - mae: 0.5870 - val_loss: 0.5204 - val_mae: 0.6041\n",
      "Epoch 82/100\n",
      "348/348 [==============================] - 4s 10ms/step - loss: 0.4962 - mae: 0.5857 - val_loss: 0.5272 - val_mae: 0.6090\n",
      "Epoch 83/100\n",
      "348/348 [==============================] - 4s 10ms/step - loss: 0.4965 - mae: 0.5848 - val_loss: 0.5425 - val_mae: 0.6118\n",
      "Epoch 84/100\n",
      "348/348 [==============================] - 4s 10ms/step - loss: 0.4933 - mae: 0.5837 - val_loss: 0.5223 - val_mae: 0.6027\n",
      "Epoch 85/100\n",
      "348/348 [==============================] - 4s 10ms/step - loss: 0.4924 - mae: 0.5815 - val_loss: 0.5503 - val_mae: 0.6168\n",
      "Epoch 86/100\n",
      "348/348 [==============================] - 4s 10ms/step - loss: 0.4763 - mae: 0.5719 - val_loss: 0.5259 - val_mae: 0.6061\n",
      "Epoch 87/100\n",
      "348/348 [==============================] - 4s 10ms/step - loss: 0.4842 - mae: 0.5743 - val_loss: 0.5140 - val_mae: 0.5968\n",
      "Epoch 88/100\n",
      "348/348 [==============================] - 4s 10ms/step - loss: 0.4970 - mae: 0.5829 - val_loss: 0.5224 - val_mae: 0.6032\n",
      "Epoch 89/100\n",
      "348/348 [==============================] - 3s 10ms/step - loss: 0.4898 - mae: 0.5806 - val_loss: 0.5414 - val_mae: 0.6153\n",
      "Epoch 90/100\n",
      "348/348 [==============================] - 4s 10ms/step - loss: 0.4813 - mae: 0.5740 - val_loss: 0.5259 - val_mae: 0.6080\n",
      "Epoch 91/100\n",
      "348/348 [==============================] - 3s 10ms/step - loss: 0.4879 - mae: 0.5781 - val_loss: 0.5448 - val_mae: 0.6129\n",
      "Epoch 92/100\n",
      "348/348 [==============================] - 4s 10ms/step - loss: 0.4805 - mae: 0.5749 - val_loss: 0.5305 - val_mae: 0.6061\n",
      "Epoch 93/100\n",
      "348/348 [==============================] - 4s 10ms/step - loss: 0.4833 - mae: 0.5756 - val_loss: 0.5286 - val_mae: 0.6041\n",
      "Epoch 94/100\n",
      "348/348 [==============================] - 3s 10ms/step - loss: 0.4820 - mae: 0.5770 - val_loss: 0.5381 - val_mae: 0.6121\n",
      "Epoch 95/100\n",
      "348/348 [==============================] - 3s 10ms/step - loss: 0.4772 - mae: 0.5725 - val_loss: 0.5347 - val_mae: 0.6103\n",
      "Epoch 96/100\n",
      "348/348 [==============================] - 3s 10ms/step - loss: 0.4738 - mae: 0.5700 - val_loss: 0.5358 - val_mae: 0.6117\n",
      "Epoch 97/100\n",
      "348/348 [==============================] - 3s 10ms/step - loss: 0.4860 - mae: 0.5770 - val_loss: 0.5507 - val_mae: 0.6188\n",
      "Epoch 98/100\n",
      "348/348 [==============================] - 4s 10ms/step - loss: 0.4872 - mae: 0.5770 - val_loss: 0.5395 - val_mae: 0.6135\n",
      "Epoch 99/100\n",
      "348/348 [==============================] - 4s 10ms/step - loss: 0.4837 - mae: 0.5751 - val_loss: 0.5383 - val_mae: 0.6117\n",
      "Epoch 100/100\n",
      "348/348 [==============================] - 4s 10ms/step - loss: 0.4788 - mae: 0.5744 - val_loss: 0.5492 - val_mae: 0.6182\n"
     ]
    }
   ],
   "source": [
    "history = model.fit(X_train, y_train, epochs=100, validation_split=.2)"
   ]
  },
  {
   "cell_type": "code",
   "execution_count": 96,
   "id": "d1743a1f",
   "metadata": {},
   "outputs": [],
   "source": [
    "def plot_loss_curves(history):\n",
    "    \"\"\"\n",
    "    Plots the curves of both loss and accuracy\n",
    "    \"\"\"\n",
    "\n",
    "    loss = history.history['loss']\n",
    "    val_loss = history.history['val_loss']\n",
    "\n",
    "    mae = history.history['mae']\n",
    "    val_mae = history.history['val_mae']\n",
    "    \n",
    "    epochs = range(len(loss))\n",
    "\n",
    "    fig, ax = plt.subplots(1, 2, figsize = (20, 7))\n",
    "\n",
    "    # Plotting loss\n",
    "    ax1 = sns.lineplot(x = epochs, y = loss, label='Training Loss', ax= ax[0])\n",
    "    ax1 = sns.lineplot(x = epochs, y = val_loss, label='Validation Loss', ax= ax[0])\n",
    "    ax1.set(title = 'Loss', xlabel = 'Epochs')\n",
    "\n",
    "    # Plot accuracy\n",
    "    ax2 = sns.lineplot(x = epochs, y = mae, label='Training Mean Absolute Error', ax= ax[1])\n",
    "    ax2 = sns.lineplot(x = epochs, y = val_mae, label='Validation Mean Absolute Error', ax=ax[1])\n",
    "    ax2.set(title = 'Mean Absolute Error', xlabel = 'Epochs')\n",
    "    "
   ]
  },
  {
   "cell_type": "code",
   "execution_count": 97,
   "id": "8802a606",
   "metadata": {
    "scrolled": true
   },
   "outputs": [
    {
     "data": {
      "image/png": "[encoded data removed]",
      "text/plain": [
       "<Figure size 2000x700 with 2 Axes>"
      ]
     },
     "metadata": {},
     "output_type": "display_data"
    }
   ],
   "source": [
    "plot_loss_curves(history)"
   ]
  },
  {
   "cell_type": "code",
   "execution_count": 75,
   "id": "5b3b9b98",
   "metadata": {},
   "outputs": [
    {
     "name": "stdout",
     "output_type": "stream",
     "text": [
      "109/109 [==============================] - 0s 1ms/step\n"
     ]
    }
   ],
   "source": [
    "y_pred = model.predict(X_test)"
   ]
  },
  {
   "cell_type": "code",
   "execution_count": 98,
   "id": "e39645c6",
   "metadata": {
    "scrolled": true
   },
   "outputs": [
    {
     "name": "stdout",
     "output_type": "stream",
     "text": [
      "109/109 [==============================] - 0s 2ms/step - loss: 0.5271 - mae: 0.6007\n"
     ]
    },
    {
     "data": {
      "text/plain": [
       "[0.5271334052085876, 0.6006720662117004]"
      ]
     },
     "execution_count": 98,
     "metadata": {},
     "output_type": "execute_result"
    }
   ],
   "source": [
    "model.evaluate(X_test, y_test)"
   ]
  },
  {
   "cell_type": "markdown",
   "id": "addc082b",
   "metadata": {},
   "source": [
    "### Model - Linear Regression  - Fine Tuning "
   ]
  },
  {
   "cell_type": "code",
   "execution_count": 106,
   "id": "2c9b4c8e",
   "metadata": {},
   "outputs": [],
   "source": [
    "model = tf.keras.Sequential([\n",
    "    tf.keras.layers.BatchNormalization(input_shape=[X_train.shape[1]]),\n",
    "    tf.keras.layers.Dense(2048, activation='relu'),\n",
    "    tf.keras.layers.Dropout(.2),\n",
    "    tf.keras.layers.Dense(2048, activation='relu'),\n",
    "    tf.keras.layers.Dropout(.15),\n",
    "    tf.keras.layers.Dense(2048, activation='relu'),\n",
    "    tf.keras.layers.Dense(2048, activation='relu'),\n",
    "    tf.keras.layers.Dense(1, activation='relu'),\n",
    "])\n",
    "\n",
    "model.compile(optimizer=tf.keras.optimizers.Adam(learning_rate=0.0001),\n",
    "              loss=['mse'],\n",
    "              metrics=['mae'])"
   ]
  },
  {
   "cell_type": "code",
   "execution_count": 107,
   "id": "5e17dcb5",
   "metadata": {},
   "outputs": [],
   "source": [
    "model.build()"
   ]
  },
  {
   "cell_type": "code",
   "execution_count": 108,
   "id": "41bdfd4c",
   "metadata": {},
   "outputs": [
    {
     "name": "stdout",
     "output_type": "stream",
     "text": [
      "Model: \"sequential_14\"\n",
      "_________________________________________________________________\n",
      " Layer (type)                Output Shape              Param #   \n",
      "=================================================================\n",
      " batch_normalization_7 (Bat  (None, 13)                52        \n",
      " chNormalization)                                                \n",
      "                                                                 \n",
      " dense_71 (Dense)            (None, 2048)              28672     \n",
      "                                                                 \n",
      " dropout_31 (Dropout)        (None, 2048)              0         \n",
      "                                                                 \n",
      " dense_72 (Dense)            (None, 2048)              4196352   \n",
      "                                                                 \n",
      " dropout_32 (Dropout)        (None, 2048)              0         \n",
      "                                                                 \n",
      " dense_73 (Dense)            (None, 2048)              4196352   \n",
      "                                                                 \n",
      " dense_74 (Dense)            (None, 2048)              4196352   \n",
      "                                                                 \n",
      " dense_75 (Dense)            (None, 1)                 2049      \n",
      "                                                                 \n",
      "=================================================================\n",
      "Total params: 12619829 (48.14 MB)\n",
      "Trainable params: 12619803 (48.14 MB)\n",
      "Non-trainable params: 26 (104.00 Byte)\n",
      "_________________________________________________________________\n"
     ]
    }
   ],
   "source": [
    "model.summary()"
   ]
  },
  {
   "cell_type": "code",
   "execution_count": null,
   "id": "76649d81",
   "metadata": {
    "scrolled": false
   },
   "outputs": [
    {
     "name": "stdout",
     "output_type": "stream",
     "text": [
      "Epoch 1/100\n",
      "348/348 [==============================] - 5s 10ms/step - loss: 0.7286 - mae: 0.7105 - val_loss: 0.6692 - val_mae: 0.6699\n",
      "Epoch 2/100\n",
      "348/348 [==============================] - 3s 10ms/step - loss: 0.6696 - mae: 0.6804 - val_loss: 0.6153 - val_mae: 0.6479\n",
      "Epoch 3/100\n",
      "348/348 [==============================] - 3s 10ms/step - loss: 0.6437 - mae: 0.6681 - val_loss: 0.6036 - val_mae: 0.6371\n",
      "Epoch 4/100\n",
      "348/348 [==============================] - 3s 10ms/step - loss: 0.6274 - mae: 0.6604 - val_loss: 0.6246 - val_mae: 0.6686\n",
      "Epoch 5/100\n",
      "348/348 [==============================] - 3s 10ms/step - loss: 0.6135 - mae: 0.6540 - val_loss: 0.5488 - val_mae: 0.6205\n",
      "Epoch 6/100\n",
      "348/348 [==============================] - 3s 10ms/step - loss: 0.6033 - mae: 0.6504 - val_loss: 0.5882 - val_mae: 0.6381\n",
      "Epoch 7/100\n",
      "348/348 [==============================] - 3s 10ms/step - loss: 0.5952 - mae: 0.6441 - val_loss: 0.5344 - val_mae: 0.6118\n",
      "Epoch 8/100\n",
      "348/348 [==============================] - 4s 10ms/step - loss: 0.5928 - mae: 0.6443 - val_loss: 0.5582 - val_mae: 0.6225\n",
      "Epoch 9/100\n",
      "348/348 [==============================] - 4s 10ms/step - loss: 0.5861 - mae: 0.6404 - val_loss: 0.5289 - val_mae: 0.6107\n",
      "Epoch 10/100\n",
      "348/348 [==============================] - 4s 10ms/step - loss: 0.5734 - mae: 0.6317 - val_loss: 0.5422 - val_mae: 0.6057\n",
      "Epoch 11/100\n",
      "348/348 [==============================] - 3s 10ms/step - loss: 0.5740 - mae: 0.6314 - val_loss: 0.5538 - val_mae: 0.6280\n",
      "Epoch 12/100\n",
      "348/348 [==============================] - 3s 10ms/step - loss: 0.5714 - mae: 0.6324 - val_loss: 0.5154 - val_mae: 0.6108\n",
      "Epoch 13/100\n",
      "348/348 [==============================] - 3s 10ms/step - loss: 0.5721 - mae: 0.6320 - val_loss: 0.5047 - val_mae: 0.5924\n",
      "Epoch 14/100\n",
      "348/348 [==============================] - 3s 10ms/step - loss: 0.5673 - mae: 0.6292 - val_loss: 0.4870 - val_mae: 0.5895\n",
      "Epoch 15/100\n",
      "348/348 [==============================] - 4s 10ms/step - loss: 0.5697 - mae: 0.6294 - val_loss: 0.5013 - val_mae: 0.6040\n",
      "Epoch 16/100\n",
      "348/348 [==============================] - 3s 10ms/step - loss: 0.5714 - mae: 0.6301 - val_loss: 0.5165 - val_mae: 0.5992\n",
      "Epoch 17/100\n",
      "348/348 [==============================] - 3s 10ms/step - loss: 0.5619 - mae: 0.6241 - val_loss: 0.5534 - val_mae: 0.6154\n",
      "Epoch 18/100\n",
      "348/348 [==============================] - 3s 10ms/step - loss: 0.5655 - mae: 0.6263 - val_loss: 0.5541 - val_mae: 0.6122\n",
      "Epoch 19/100\n",
      "348/348 [==============================] - 3s 10ms/step - loss: 0.5604 - mae: 0.6239 - val_loss: 0.5089 - val_mae: 0.6010\n",
      "Epoch 20/100\n",
      "347/348 [============================>.] - ETA: 0s - loss: 0.5676 - mae: 0.6284"
     ]
    }
   ],
   "source": [
    "history = model.fit(X_train, y_train, epochs=100, validation_split=.2)"
   ]
  },
  {
   "cell_type": "code",
   "execution_count": null,
   "id": "9a4e5270",
   "metadata": {
    "scrolled": true
   },
   "outputs": [],
   "source": [
    "plot_loss_curves(history)"
   ]
  },
  {
   "cell_type": "code",
   "execution_count": null,
   "id": "52923cb3",
   "metadata": {},
   "outputs": [],
   "source": [
    "y_pred = model.predict(X_test)"
   ]
  },
  {
   "cell_type": "code",
   "execution_count": null,
   "id": "2add33d0",
   "metadata": {
    "scrolled": true
   },
   "outputs": [],
   "source": [
    "model.evaluate(X_test, y_test)"
   ]
  },
  {
   "cell_type": "code",
   "execution_count": null,
   "id": "a07cbaf2",
   "metadata": {},
   "outputs": [],
   "source": []
  }
 ],
 "metadata": {
  "kernelspec": {
   "display_name": "Python 3 (ipykernel)",
   "language": "python",
   "name": "python3"
  },
  "language_info": {
   "codemirror_mode": {
    "name": "ipython",
    "version": 3
   },
   "file_extension": ".py",
   "mimetype": "text/x-python",
   "name": "python",
   "nbconvert_exporter": "python",
   "pygments_lexer": "ipython3",
   "version": "3.11.5"
  }
 },
 "nbformat": 4,
 "nbformat_minor": 5
}
