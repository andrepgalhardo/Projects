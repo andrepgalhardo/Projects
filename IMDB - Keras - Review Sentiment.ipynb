{
 "cells": [
  {
   "cell_type": "code",
   "execution_count": 1,
   "id": "03778847",
   "metadata": {},
   "outputs": [
    {
     "name": "stderr",
     "output_type": "stream",
     "text": [
      "2024-01-02 18:10:54.990003: E external/local_xla/xla/stream_executor/cuda/cuda_dnn.cc:9261] Unable to register cuDNN factory: Attempting to register factory for plugin cuDNN when one has already been registered\n",
      "2024-01-02 18:10:54.990032: E external/local_xla/xla/stream_executor/cuda/cuda_fft.cc:607] Unable to register cuFFT factory: Attempting to register factory for plugin cuFFT when one has already been registered\n",
      "2024-01-02 18:10:54.990945: E external/local_xla/xla/stream_executor/cuda/cuda_blas.cc:1515] Unable to register cuBLAS factory: Attempting to register factory for plugin cuBLAS when one has already been registered\n",
      "2024-01-02 18:10:54.996615: I tensorflow/core/platform/cpu_feature_guard.cc:182] This TensorFlow binary is optimized to use available CPU instructions in performance-critical operations.\n",
      "To enable the following instructions: AVX2 FMA, in other operations, rebuild TensorFlow with the appropriate compiler flags.\n",
      "2024-01-02 18:10:55.764782: W tensorflow/compiler/tf2tensorrt/utils/py_utils.cc:38] TF-TRT Warning: Could not find TensorRT\n"
     ]
    }
   ],
   "source": [
    "import os\n",
    "\n",
    "\n",
    "import tensorflow as tf\n",
    "from tensorflow import keras\n",
    "\n",
    "import numpy as np"
   ]
  },
  {
   "cell_type": "code",
   "execution_count": 2,
   "id": "0eadf727",
   "metadata": {},
   "outputs": [
    {
     "name": "stdout",
     "output_type": "stream",
     "text": [
      "  % Total    % Received % Xferd  Average Speed   Time    Time     Time  Current\n",
      "                                 Dload  Upload   Total   Spent    Left  Speed\n",
      "100 80.2M  100 80.2M    0     0   243k      0  0:05:37  0:05:37 --:--:--  260k9M    0     0   208k      0  0:06:34  0:00:58  0:05:36  222k\n"
     ]
    }
   ],
   "source": [
    "!curl -O https://ai.stanford.edu/~amaas/data/sentiment/aclImdb_v1.tar.gz"
   ]
  },
  {
   "cell_type": "code",
   "execution_count": 3,
   "id": "169dcac1",
   "metadata": {},
   "outputs": [],
   "source": [
    "!tar -xf aclImdb_v1.tar.gz"
   ]
  },
  {
   "cell_type": "code",
   "execution_count": 4,
   "id": "50d92555",
   "metadata": {},
   "outputs": [
    {
     "name": "stdout",
     "output_type": "stream",
     "text": [
      "imdbEr.txt  imdb.vocab\tREADME\ttest  train\r\n"
     ]
    }
   ],
   "source": [
    "!ls aclImdb/"
   ]
  },
  {
   "cell_type": "code",
   "execution_count": 5,
   "id": "59b53ba4",
   "metadata": {},
   "outputs": [
    {
     "name": "stdout",
     "output_type": "stream",
     "text": [
      "labeledBow.feat  neg  pos  urls_neg.txt  urls_pos.txt\r\n"
     ]
    }
   ],
   "source": [
    "!ls aclImdb/test/"
   ]
  },
  {
   "cell_type": "code",
   "execution_count": 6,
   "id": "3ba086c4",
   "metadata": {},
   "outputs": [
    {
     "name": "stdout",
     "output_type": "stream",
     "text": [
      "labeledBow.feat  pos\tunsupBow.feat  urls_pos.txt\r\n",
      "neg\t\t unsup\turls_neg.txt   urls_unsup.txt\r\n"
     ]
    }
   ],
   "source": [
    "!ls aclImdb/train/"
   ]
  },
  {
   "cell_type": "code",
   "execution_count": 8,
   "id": "a69d584b",
   "metadata": {},
   "outputs": [
    {
     "name": "stdout",
     "output_type": "stream",
     "text": [
      "Homelessness (or Houselessness as George Carlin stated) has been an issue for years but never a plan to help those on the street that were once considered human who did everything from going to school, work, or vote for the matter. Most people think of the homeless as just a lost cause while worrying about things such as racism, the war on Iraq, pressuring kids to succeed, technology, the elections, inflation, or worrying if they'll be next to end up on the streets.<br /><br />But what if you were given a bet to live on the streets for a month without the luxuries you once had from a home, the entertainment sets, a bathroom, pictures on the wall, a computer, and everything you once treasure to see what it's like to be homeless? That is Goddard Bolt's lesson.<br /><br />Mel Brooks (who directs) who stars as Bolt plays a rich man who has everything in the world until deciding to make a bet with a sissy rival (Jeffery Tambor) to see if he can live in the streets for thirty days without the luxuries; if Bolt succeeds, he can do what he wants with a future project of making more buildings. The bet's on where Bolt is thrown on the street with a bracelet on his leg to monitor his every move where he can't step off the sidewalk. He's given the nickname Pepto by a vagrant after it's written on his forehead where Bolt meets other characters including a woman by the name of Molly (Lesley Ann Warren) an ex-dancer who got divorce before losing her home, and her pals Sailor (Howard Morris) and Fumes (Teddy Wilson) who are already used to the streets. They're survivors. Bolt isn't. He's not used to reaching mutual agreements like he once did when being rich where it's fight or flight, kill or be killed.<br /><br />While the love connection between Molly and Bolt wasn't necessary to plot, I found \"Life Stinks\" to be one of Mel Brooks' observant films where prior to being a comedy, it shows a tender side compared to his slapstick work such as Blazing Saddles, Young Frankenstein, or Spaceballs for the matter, to show what it's like having something valuable before losing it the next day or on the other hand making a stupid bet like all rich people do when they don't know what to do with their money. Maybe they should give it to the homeless instead of using it like Monopoly money.<br /><br />Or maybe this film will inspire you to help others."
     ]
    }
   ],
   "source": [
    "!cat aclImdb/train/pos/10000_8.txt"
   ]
  },
  {
   "cell_type": "code",
   "execution_count": 9,
   "id": "e78790ad",
   "metadata": {},
   "outputs": [],
   "source": [
    "!rm -rf aclImdb/train/unsup/"
   ]
  },
  {
   "cell_type": "code",
   "execution_count": 12,
   "id": "156ddd28",
   "metadata": {},
   "outputs": [
    {
     "name": "stdout",
     "output_type": "stream",
     "text": [
      "Found 25000 files belonging to 2 classes.\n",
      "Using 20000 files for training.\n",
      "Found 25000 files belonging to 2 classes.\n",
      "Using 5000 files for validation.\n",
      "Found 25000 files belonging to 2 classes.\n",
      "Number of batches in raw_train_ds: 625\n",
      "Number of batches in raw_val_ds: 157\n",
      "Number of batches in raw_test_ds: 782\n"
     ]
    }
   ],
   "source": [
    "batch_size = 32\n",
    "\n",
    "raw_train_ds = keras.utils.text_dataset_from_directory('./aclImdb/train/',\n",
    "                                                      validation_split=.2,\n",
    "                                                      batch_size=batch_size,\n",
    "                                                      subset='training',\n",
    "                                                      seed=0)\n",
    "\n",
    "raw_val_ds = keras.utils.text_dataset_from_directory('./aclImdb/train/',\n",
    "                                                    validation_split=.2,\n",
    "                                                     batch_size=batch_size,\n",
    "                                                     subset='validation',\n",
    "                                                     seed=0)\n",
    "\n",
    "raw_test_ds = keras.utils.text_dataset_from_directory('./aclImdb/test/',\n",
    "                                                     batch_size=batch_size)\n",
    "\n",
    "print(f'Number of batches in raw_train_ds: {raw_train_ds.cardinality()}')\n",
    "print(f'Number of batches in raw_val_ds: {raw_val_ds.cardinality()}')\n",
    "print(f'Number of batches in raw_test_ds: {raw_test_ds.cardinality()}')"
   ]
  },
  {
   "cell_type": "code",
   "execution_count": 16,
   "id": "1148fe71",
   "metadata": {},
   "outputs": [
    {
     "name": "stdout",
     "output_type": "stream",
     "text": [
      "b\"This was really a very bad movie. I am a huge fan of Italian Horror, Argento, Mario Bava, Fulci and yes, even our good friend here Lamberto sometimes comes out with a good one. I found the first two 'Demons' films to be highly entertaining - they were so bad they were great but this one is just so bad that it is really, really bad. It is intensely boring, the story never goes anywhere and I hated the characters - the wife slapping husband and whiny cry-baby pain in the *** wife drove me mad, there was nowhere near enough of the story devoted to the Ogre who was probably the best actor in the whole film. I turned it off about three quarters of the way through because I was very, very BORED! Don't bother.\"\n",
      "0\n",
      "b\"This movie is an utter waste of time, the plot is awful, the dialogue is awful.<br /><br />The acting is OK, but the actors have absolutely no plot or script to work with. The photography and some of the special effects are OK, too, but again there is nothing interesting in this movie to watch. There is no logical progression to the story, the story line is utter nonsense. It isn't even scary. For a movie to be scary, there has to be at least a small element of believability. This movie has no believability at all.<br /><br />There are only three characters in the movie. Each character is shallow and has no personality. <br /><br />Most of the special effects and make up work are both badly done, or at most mediocre.<br /><br />I hope you read this and do not waste time on this movie unless you are curious to see an entirely awful movie.\"\n",
      "0\n",
      "b\"I am amazed with some of the reviews of this film. The only place that seems to tell the truth is RottenTomatoes.com. This film is awful. The plot is extremely lazy. It is not scary either. People out there who think that because it stars Sarah Michelle Geller it is somehow like The Grudge should forget about it. This film is more like Dark Water, except it is even more predictable and slow moving than it. I was extremely disappointed with this film. It didn't scare me nor interest me either. Let's face it , this type of plot has been flogged to death at this stage e.g. the dead trying to contact the living - Dragonfly, What Lies Beneath, Ghost Story, Dark Water, Darkness, The Changeling etc.etc. It seems to me that the only ones writing original horror films nowadays are the Japanese and the Koreans. The films that are coming out of Hollywood, like this, are cynical exercises in money making without a shred of respect for the viewer. They're just being churned out\"\n",
      "0\n",
      "b\"This movie gets both a 6/10 rating from me, as well as a 9/10. Here is why: As a standard horror movie for the standard horror crowd, where action and gore and scares are taken into consideration, this movie WILL bore you. It's basically a family drama similar to what you'd see on the Lifetime channel, but put in a horror universe. The story and formula are age-old, retreaded hundreds of times. If you're looking for any originality in the plot structure or the minimal conflicts, you'll be disappointed. Take away the zombies and you'll have something just as melodramatic as A Beautiful Mind, tripping on cheese. This is the 6/10.<br /><br />However, the basic synopsis and idea is pretty original and over-the-top. It's literally something you and your friends would joke about when you're half-drunk . . . but that joke actually got a theatrical release. The idea gets a 9/10 from me. The only reason it isn't perfect is because they could have taken it even further, but they didn't.<br /><br />The mix of both is mixed. I thought it was funny, but as with most all comedies, it wasn't THAT funny. I had my mom and little sister watch it with me and the jokes we made about it were funnier than the jokes scripted. There were moments of utter genius, but there were also moments of pure boredom.<br /><br />I sincerely hope that other movies take this kind of over-the-top risk and original ideas. I just can't say it was perfect, or even near it, because of the lack of originality to the plot.<br /><br />A GREAT family movie. A great movie to watch with a bunch of guys (or girls). A great movie to watch with anyone . . . but if you watch it alone, it will be a bit boring. Other people always make this kind of movie funnier and richer.<br /><br />4/10\"\n",
      "0\n",
      "b'Spoiler!!! This movie is based on the concept of What If? Of course Mr Destiny will be able to answer this question. The main character goes through a bad day, like many of us, and asks this question. Chaos Theory states a butterfly in China could have an effect on someone over here from a chain reaction. The focus of this movie is based on one event during a baseball game. This event sets into motion one\\'s Destiny; Just like Ashton in \"The Butterfly effect\" except Mr. Destiny uses comedy over drama. The results make a fresh, somewhat original movie. If one\\'s philosophical are in tune with \"The Butterfly Effect\" one will likely enjoy Mr. Destiny. I give it a 7 out of 10. Amazing for I have seen the first half of this movie 3 times, and finally watched the ending on TBS.'\n",
      "1\n"
     ]
    }
   ],
   "source": [
    "for text_batch, label_batch in raw_train_ds.take(1):\n",
    "    for i in range(5):\n",
    "        print(text_batch.numpy()[i])\n",
    "        print(label_batch.numpy()[i])"
   ]
  },
  {
   "cell_type": "code",
   "execution_count": 19,
   "id": "79881317",
   "metadata": {},
   "outputs": [],
   "source": [
    "import string\n",
    "import re\n",
    "\n",
    "def custom_standization(input_data):\n",
    "    lowercase = tf.strings.lower(input_data)\n",
    "    striped_html = tf.strings.regex_replace(lowercase, \"<br />\", \" \")\n",
    "    return tf.strings.regex_replace(\n",
    "        striped_html, f\"[{re.escape(string.punctuation)}]\", \"\"\n",
    "    )\n",
    "\n",
    "\n",
    "max_features = 20000\n",
    "embbeding_dim = 128\n",
    "sequence_lenght = 500\n",
    "\n",
    "vectorize_layer = keras.layers.TextVectorization(standardize=custom_standization,\n",
    "                                                 max_tokens=max_features,\n",
    "                                                 output_mode='int',\n",
    "                                                 output_sequence_length=sequence_lenght\n",
    "                                                )\n",
    "\n",
    "text_ds = raw_train_ds.map(lambda x, y: x)\n",
    "\n",
    "vectorize_layer.adapt(text_ds)"
   ]
  },
  {
   "cell_type": "code",
   "execution_count": 22,
   "id": "4a2be537",
   "metadata": {},
   "outputs": [],
   "source": [
    "def vectorize_text(text, label):\n",
    "    text = tf.expand_dims(text, -1)\n",
    "    return vectorize_layer(text), label\n",
    "\n",
    "\n",
    "# Vectorize the data.\n",
    "train_ds = raw_train_ds.map(vectorize_text)\n",
    "val_ds = raw_val_ds.map(vectorize_text)\n",
    "test_ds = raw_test_ds.map(vectorize_text)\n",
    "\n",
    "# Do async prefetching / buffering of the data for best performance on GPU.\n",
    "train_ds = train_ds.cache().prefetch(buffer_size=10)\n",
    "val_ds = val_ds.cache().prefetch(buffer_size=10)\n",
    "test_ds = test_ds.cache().prefetch(buffer_size=10)\n"
   ]
  },
  {
   "cell_type": "code",
   "execution_count": 24,
   "id": "298aa4e0",
   "metadata": {},
   "outputs": [],
   "source": [
    "inputs = keras.Input(shape=(None,), dtype='int64')\n",
    "\n",
    "x = keras.layers.Embedding(max_features, embbeding_dim)(inputs)\n",
    "\n",
    "x = keras.layers.Dropout(.5)(x)\n",
    "\n",
    "x = keras.layers.Conv1D(128, 7, padding='valid', activation='relu', strides=3)(x)\n",
    "\n",
    "x = keras.layers.Conv1D(128, 7, padding='valid', activation='relu', strides=3)(x)\n",
    "\n",
    "x = keras.layers.GlobalMaxPooling1D()(x)\n",
    "\n",
    "x = keras.layers.Dense(128, activation='relu')(x)\n",
    "\n",
    "x = keras.layers.Dropout(.5)(x)\n",
    "\n",
    "predictions = keras.layers.Dense(1, activation='sigmoid', name='predictions')(x)\n",
    "\n",
    "model = keras.Model(inputs, predictions)\n",
    "\n",
    "model.compile(optimizer='adam', loss='binary_crossentropy', metrics='accuracy')\n"
   ]
  },
  {
   "cell_type": "code",
   "execution_count": 25,
   "id": "bae17cbf",
   "metadata": {},
   "outputs": [
    {
     "name": "stdout",
     "output_type": "stream",
     "text": [
      "Epoch 1/3\n"
     ]
    },
    {
     "name": "stderr",
     "output_type": "stream",
     "text": [
      "2024-01-02 19:07:23.963746: I external/local_xla/xla/stream_executor/cuda/cuda_dnn.cc:454] Loaded cuDNN version 8907\n",
      "2024-01-02 19:07:24.150325: I external/local_tsl/tsl/platform/default/subprocess.cc:304] Start cannot spawn child process: No such file or directory\n",
      "2024-01-02 19:07:24.717342: I external/local_xla/xla/service/service.cc:168] XLA service 0x7f170c5bd300 initialized for platform CUDA (this does not guarantee that XLA will be used). Devices:\n",
      "2024-01-02 19:07:24.717363: I external/local_xla/xla/service/service.cc:176]   StreamExecutor device (0): NVIDIA GeForce GTX 1650, Compute Capability 7.5\n",
      "2024-01-02 19:07:24.727710: I tensorflow/compiler/mlir/tensorflow/utils/dump_mlir_util.cc:269] disabling MLIR crash reproducer, set env var `MLIR_CRASH_REPRODUCER_DIRECTORY` to enable.\n",
      "WARNING: All log messages before absl::InitializeLog() is called are written to STDERR\n",
      "I0000 00:00:1704233244.810346    4627 device_compiler.h:186] Compiled cluster using XLA!  This line is logged at most once for the lifetime of the process.\n"
     ]
    },
    {
     "name": "stdout",
     "output_type": "stream",
     "text": [
      "625/625 [==============================] - 35s 50ms/step - loss: 0.5105 - accuracy: 0.7054 - val_loss: 0.3127 - val_accuracy: 0.8588\n",
      "Epoch 2/3\n",
      "625/625 [==============================] - 5s 9ms/step - loss: 0.2310 - accuracy: 0.9093 - val_loss: 0.3213 - val_accuracy: 0.8746\n",
      "Epoch 3/3\n",
      "625/625 [==============================] - 5s 9ms/step - loss: 0.1166 - accuracy: 0.9590 - val_loss: 0.4695 - val_accuracy: 0.8680\n"
     ]
    }
   ],
   "source": [
    "history = model.fit(train_ds, epochs=3, validation_data=val_ds)"
   ]
  },
  {
   "cell_type": "code",
   "execution_count": 26,
   "id": "b37676f8",
   "metadata": {},
   "outputs": [
    {
     "name": "stdout",
     "output_type": "stream",
     "text": [
      "782/782 [==============================] - 2s 3ms/step - loss: 0.4853 - accuracy: 0.8599\n"
     ]
    },
    {
     "data": {
      "text/plain": [
       "[0.48526668548583984, 0.8599200248718262]"
      ]
     },
     "execution_count": 26,
     "metadata": {},
     "output_type": "execute_result"
    }
   ],
   "source": [
    "model.evaluate(test_ds)"
   ]
  }
 ],
 "metadata": {
  "kernelspec": {
   "display_name": "Python 3 (ipykernel)",
   "language": "python",
   "name": "python3"
  },
  "language_info": {
   "codemirror_mode": {
    "name": "ipython",
    "version": 3
   },
   "file_extension": ".py",
   "mimetype": "text/x-python",
   "name": "python",
   "nbconvert_exporter": "python",
   "pygments_lexer": "ipython3",
   "version": "3.11.5"
  }
 },
 "nbformat": 4,
 "nbformat_minor": 5
}
